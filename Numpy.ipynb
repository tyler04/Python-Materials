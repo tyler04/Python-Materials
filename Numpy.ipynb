{
  "nbformat": 4,
  "nbformat_minor": 0,
  "metadata": {
    "colab": {
      "name": "Numpy.ipynb",
      "provenance": [],
      "authorship_tag": "ABX9TyNbXRAVBqCAn8VftZtmJh0S",
      "include_colab_link": true
    },
    "kernelspec": {
      "name": "python3",
      "display_name": "Python 3"
    },
    "language_info": {
      "name": "python"
    }
  },
  "cells": [
    {
      "cell_type": "markdown",
      "metadata": {
        "id": "view-in-github",
        "colab_type": "text"
      },
      "source": [
        "<a href=\"https://colab.research.google.com/github/tyler04/Python-Materials/blob/main/Numpy.ipynb\" target=\"_parent\"><img src=\"https://colab.research.google.com/assets/colab-badge.svg\" alt=\"Open In Colab\"/></a>"
      ]
    },
    {
      "cell_type": "markdown",
      "source": [
        "# Numpy (CookBook)"
      ],
      "metadata": {
        "id": "BKChEFVNyDx1"
      }
    },
    {
      "cell_type": "code",
      "execution_count": 1,
      "metadata": {
        "id": "QqHGMIhXdCGQ"
      },
      "outputs": [],
      "source": [
        "import numpy as np"
      ]
    },
    {
      "cell_type": "code",
      "source": [
        "help(np.arange)"
      ],
      "metadata": {
        "colab": {
          "base_uri": "https://localhost:8080/"
        },
        "id": "UBT_4dJfds3R",
        "outputId": "ea2066b9-ab71-4fa2-80e0-18e38feabf7e"
      },
      "execution_count": 3,
      "outputs": [
        {
          "output_type": "stream",
          "name": "stdout",
          "text": [
            "Help on built-in function arange in module numpy:\n",
            "\n",
            "arange(...)\n",
            "    arange([start,] stop[, step,], dtype=None, *, like=None)\n",
            "    \n",
            "    Return evenly spaced values within a given interval.\n",
            "    \n",
            "    Values are generated within the half-open interval ``[start, stop)``\n",
            "    (in other words, the interval including `start` but excluding `stop`).\n",
            "    For integer arguments the function is equivalent to the Python built-in\n",
            "    `range` function, but returns an ndarray rather than a list.\n",
            "    \n",
            "    When using a non-integer step, such as 0.1, the results will often not\n",
            "    be consistent.  It is better to use `numpy.linspace` for these cases.\n",
            "    \n",
            "    Parameters\n",
            "    ----------\n",
            "    start : integer or real, optional\n",
            "        Start of interval.  The interval includes this value.  The default\n",
            "        start value is 0.\n",
            "    stop : integer or real\n",
            "        End of interval.  The interval does not include this value, except\n",
            "        in some cases where `step` is not an integer and floating point\n",
            "        round-off affects the length of `out`.\n",
            "    step : integer or real, optional\n",
            "        Spacing between values.  For any output `out`, this is the distance\n",
            "        between two adjacent values, ``out[i+1] - out[i]``.  The default\n",
            "        step size is 1.  If `step` is specified as a position argument,\n",
            "        `start` must also be given.\n",
            "    dtype : dtype\n",
            "        The type of the output array.  If `dtype` is not given, infer the data\n",
            "        type from the other input arguments.\n",
            "    like : array_like\n",
            "        Reference object to allow the creation of arrays which are not\n",
            "        NumPy arrays. If an array-like passed in as ``like`` supports\n",
            "        the ``__array_function__`` protocol, the result will be defined\n",
            "        by it. In this case, it ensures the creation of an array object\n",
            "        compatible with that passed in via this argument.\n",
            "    \n",
            "        .. versionadded:: 1.20.0\n",
            "    \n",
            "    Returns\n",
            "    -------\n",
            "    arange : ndarray\n",
            "        Array of evenly spaced values.\n",
            "    \n",
            "        For floating point arguments, the length of the result is\n",
            "        ``ceil((stop - start)/step)``.  Because of floating point overflow,\n",
            "        this rule may result in the last element of `out` being greater\n",
            "        than `stop`.\n",
            "    \n",
            "    See Also\n",
            "    --------\n",
            "    numpy.linspace : Evenly spaced numbers with careful handling of endpoints.\n",
            "    numpy.ogrid: Arrays of evenly spaced numbers in N-dimensions.\n",
            "    numpy.mgrid: Grid-shaped arrays of evenly spaced numbers in N-dimensions.\n",
            "    \n",
            "    Examples\n",
            "    --------\n",
            "    >>> np.arange(3)\n",
            "    array([0, 1, 2])\n",
            "    >>> np.arange(3.0)\n",
            "    array([ 0.,  1.,  2.])\n",
            "    >>> np.arange(3,7)\n",
            "    array([3, 4, 5, 6])\n",
            "    >>> np.arange(3,7,2)\n",
            "    array([3, 5])\n",
            "\n"
          ]
        }
      ]
    },
    {
      "cell_type": "code",
      "source": [
        "a = np.arange(7)\n",
        "a"
      ],
      "metadata": {
        "colab": {
          "base_uri": "https://localhost:8080/"
        },
        "id": "D1ScSPmnd0OJ",
        "outputId": "38fb1990-5fd3-4585-b5b8-85d1b3fefe09"
      },
      "execution_count": 5,
      "outputs": [
        {
          "output_type": "execute_result",
          "data": {
            "text/plain": [
              "array([0, 1, 2, 3, 4, 5, 6])"
            ]
          },
          "metadata": {},
          "execution_count": 5
        }
      ]
    },
    {
      "cell_type": "markdown",
      "source": [
        "### SymPy\n",
        "\n",
        "SymPy is a Python library for symbolic mathematics. It aims to be an alternative to systems such as Mathematica or Maple while keeping the code as simple as possible and easily extensible. SymPy is written entirely in Python and does not require any external libraries."
      ],
      "metadata": {
        "id": "7VZHgIyre_jq"
      }
    },
    {
      "cell_type": "code",
      "source": [
        "import sympy as sym\n",
        "a = sym.Rational(1, 2)\n",
        "a"
      ],
      "metadata": {
        "colab": {
          "base_uri": "https://localhost:8080/",
          "height": 51
        },
        "id": "tDiv1mE0eChq",
        "outputId": "52a13502-a776-4ab2-9fee-423ee2bedafa"
      },
      "execution_count": 6,
      "outputs": [
        {
          "output_type": "execute_result",
          "data": {
            "text/plain": [
              "1/2"
            ],
            "text/latex": "$\\displaystyle \\frac{1}{2}$"
          },
          "metadata": {},
          "execution_count": 6
        }
      ]
    },
    {
      "cell_type": "markdown",
      "source": [
        "### Matplotlib Subplot\n",
        "\n",
        "With the subplot() function you can draw multiple plots in one figure:"
      ],
      "metadata": {
        "id": "ri3O8AxvgqK7"
      }
    },
    {
      "cell_type": "code",
      "source": [
        "import matplotlib.pyplot as plt\n",
        "import numpy as np\n",
        "\n",
        "#plot 1:\n",
        "x = np.array([0, 1, 2, 3])\n",
        "y = np.array([3, 8, 1, 10])\n",
        "\n",
        "plt.subplot(1, 2, 1)\n",
        "plt.plot(x,y)\n",
        "\n",
        "#plot 2:\n",
        "x = np.array([0, 1, 2, 3])\n",
        "y = np.array([10, 20, 30, 40])\n",
        "\n",
        "plt.subplot(1, 2, 2)\n",
        "plt.plot(x,y)\n",
        "\n",
        "plt.show()"
      ],
      "metadata": {
        "colab": {
          "base_uri": "https://localhost:8080/",
          "height": 265
        },
        "id": "6DGtCXE0fQO6",
        "outputId": "c60a30d3-aba2-454a-a6f3-93949f207f63"
      },
      "execution_count": 7,
      "outputs": [
        {
          "output_type": "display_data",
          "data": {
            "text/plain": [
              "<Figure size 432x288 with 2 Axes>"
            ],
            "image/png": "[encoded data removed]"
          },
          "metadata": {
            "needs_background": "light"
          }
        }
      ]
    },
    {
      "cell_type": "markdown",
      "source": [
        "The subplot() function takes three arguments that describes the layout of the figure.\n",
        "\n",
        "The layout is organized in rows and columns, which are represented by the first and second argument.\n",
        "\n",
        "The third argument represents the index of the current plot."
      ],
      "metadata": {
        "id": "Yw9CZjAcg3Sb"
      }
    },
    {
      "cell_type": "code",
      "source": [
        "import matplotlib.pyplot as plt\n",
        "import numpy as np\n",
        "\n",
        "#plot 1:\n",
        "x = np.array([0, 1, 2, 3])\n",
        "y = np.array([3, 8, 1, 10])\n",
        "\n",
        "plt.subplot(2, 1, 1)\n",
        "plt.plot(x,y)\n",
        "\n",
        "#plot 2:\n",
        "x = np.array([0, 1, 2, 3])\n",
        "y = np.array([10, 20, 30, 40])\n",
        "\n",
        "plt.subplot(2, 1, 2)\n",
        "plt.plot(x,y)\n",
        "\n",
        "plt.show()"
      ],
      "metadata": {
        "colab": {
          "base_uri": "https://localhost:8080/",
          "height": 265
        },
        "id": "sCdDoSlegxAj",
        "outputId": "803c09b0-bf5d-4a74-84a2-66d29255984c"
      },
      "execution_count": 8,
      "outputs": [
        {
          "output_type": "display_data",
          "data": {
            "text/plain": [
              "<Figure size 432x288 with 2 Axes>"
            ],
            "image/png": "[encoded data removed]"
          },
          "metadata": {
            "needs_background": "light"
          }
        }
      ]
    },
    {
      "cell_type": "markdown",
      "source": [
        "### numpy.repeat()\n",
        "\n",
        "The numpy.repeat() function repeats elements of the array.\n",
        "\n",
        "**Syntax:** numpy.repeat(arr, repetitions, axis = None)"
      ],
      "metadata": {
        "id": "0nkXWBD3hMPE"
      }
    },
    {
      "cell_type": "code",
      "source": [
        "import numpy as np\n",
        " \n",
        "#Working on 1D\n",
        "arr = np.arange(5)\n",
        "print(\"arr : \\n\", arr)\n",
        " \n",
        "repetitions = 2\n",
        "a = np.repeat(arr, repetitions)\n",
        "print(\"\\nRepeating arr 2 times : \\n\", a)\n",
        "print(\"Shape : \", a.shape)\n",
        " \n",
        "repetitions = 3\n",
        "a = np.repeat(arr, repetitions)\n",
        "print(\"\\nRepeating arr 3 times : \\n\", a)\n",
        "# [0 0 0 ..., 4 4 4] means [0 0 0 1 1 1 2 2 2 3 3 3 4 4 4]\n",
        "# since it was long output, so it uses [ ... ]\n",
        "print(\"Shape : \", a.shape)"
      ],
      "metadata": {
        "colab": {
          "base_uri": "https://localhost:8080/"
        },
        "id": "Dvjz8xYag6Nj",
        "outputId": "9dba7537-f5a8-4195-dfe5-b3ac8a645fbd"
      },
      "execution_count": 9,
      "outputs": [
        {
          "output_type": "stream",
          "name": "stdout",
          "text": [
            "arr : \n",
            " [0 1 2 3 4]\n",
            "\n",
            "Repeating arr 2 times : \n",
            " [0 0 1 1 2 2 3 3 4 4]\n",
            "Shape :  (10,)\n",
            "\n",
            "Repeating arr 3 times : \n",
            " [0 0 0 1 1 1 2 2 2 3 3 3 4 4 4]\n",
            "Shape :  (15,)\n"
          ]
        }
      ]
    },
    {
      "cell_type": "markdown",
      "source": [
        "### NumPy Array Copy vs View\n",
        "\n",
        "* The main difference between a copy and a view of an array is that the copy is a new array, and the view is just a view of the original array.\n",
        "\n",
        "* The copy owns the data and any changes made to the copy will not affect original array, and any changes made to the original array will not affect the copy.\n",
        "\n",
        "* The view does not own the data and any changes made to the view will affect the original array, and any changes made to the original array will affect the view."
      ],
      "metadata": {
        "id": "SL_ki-6ahu7j"
      }
    },
    {
      "cell_type": "code",
      "source": [
        "#COPY\n",
        "\n",
        "import numpy as np\n",
        "\n",
        "arr = np.array([1, 2, 3, 4, 5])\n",
        "x = arr.copy()\n",
        "arr[0] = 42\n",
        "\n",
        "print(arr)\n",
        "print(x)"
      ],
      "metadata": {
        "colab": {
          "base_uri": "https://localhost:8080/"
        },
        "id": "y0Ii2WSkhf5L",
        "outputId": "2d6dcd27-5baa-452d-9a87-2f367549e03d"
      },
      "execution_count": 10,
      "outputs": [
        {
          "output_type": "stream",
          "name": "stdout",
          "text": [
            "[42  2  3  4  5]\n",
            "[1 2 3 4 5]\n"
          ]
        }
      ]
    },
    {
      "cell_type": "code",
      "source": [
        "# VIEW\n",
        "\n",
        "import numpy as np\n",
        "\n",
        "arr = np.array([1, 2, 3, 4, 5])\n",
        "x = arr.view()\n",
        "arr[0] = 42\n",
        "\n",
        "print(arr)\n",
        "print(x)"
      ],
      "metadata": {
        "colab": {
          "base_uri": "https://localhost:8080/"
        },
        "id": "rLIRfmfUh6Sz",
        "outputId": "fc27b3e7-10f4-464e-ca41-498dda118b3f"
      },
      "execution_count": 11,
      "outputs": [
        {
          "output_type": "stream",
          "name": "stdout",
          "text": [
            "[42  2  3  4  5]\n",
            "[42  2  3  4  5]\n"
          ]
        }
      ]
    },
    {
      "cell_type": "markdown",
      "source": [
        "### NumPy - Broadcasting\n",
        "\n",
        "The term broadcasting refers to the ability of NumPy to treat arrays of different shapes during arithmetic operations. Arithmetic operations on arrays are usually done on corresponding elements. If two arrays are of exactly the same shape, then these operations are smoothly performed."
      ],
      "metadata": {
        "id": "Z1mgquyIm17G"
      }
    },
    {
      "cell_type": "code",
      "source": [
        "import numpy as np \n",
        "\n",
        "a = np.array([1,2,3,4]) \n",
        "b = np.array([10,20,30,40]) \n",
        "c = a * b \n",
        "print(c)"
      ],
      "metadata": {
        "colab": {
          "base_uri": "https://localhost:8080/"
        },
        "id": "NsArttzzh-cj",
        "outputId": "0b6ec3f5-1617-43a3-d891-276bd9e8b4a3"
      },
      "execution_count": 13,
      "outputs": [
        {
          "output_type": "stream",
          "name": "stdout",
          "text": [
            "[ 10  40  90 160]\n"
          ]
        }
      ]
    },
    {
      "cell_type": "markdown",
      "source": [
        "If the dimensions of two arrays are dissimilar, element-to-element operations are not possible. However, operations on arrays of non-similar shapes is still possible in NumPy, because of the broadcasting capability. The smaller array is broadcast to the size of the larger array so that they have compatible shapes.\n",
        "\n",
        "Broadcasting is possible if the following rules are satisfied −\n",
        "\n",
        "1. Array with smaller ndim than the other is prepended with '1' in its shape.\n",
        "\n",
        "2. Size in each dimension of the output shape is maximum of the input sizes in that dimension.\n",
        "\n",
        "3. An input can be used in calculation, if its size in a particular dimension matches the output size or its value is exactly 1.\n",
        "\n",
        "4. If an input has a dimension size of 1, the first data entry in that dimension is used for all calculations along that dimension.\n",
        "\n",
        "A set of arrays is said to be broadcastable if the above rules produce a valid result and one of the following is true −\n",
        "\n",
        "1. Arrays have exactly the same shape.\n",
        "\n",
        "2. Arrays have the same number of dimensions and the length of each dimension is either a common length or 1.\n",
        "\n",
        "3. Array having too few dimensions can have its shape prepended with a dimension of length 1, so that the above stated property is true."
      ],
      "metadata": {
        "id": "LAbmawWUnELV"
      }
    },
    {
      "cell_type": "code",
      "source": [
        "import numpy as np \n",
        "a = np.array([[0.0,0.0,0.0],[10.0,10.0,10.0],[20.0,20.0,20.0],[30.0,30.0,30.0]]) \n",
        "b = np.array([1.0,2.0,3.0])  \n",
        "   \n",
        "print('First array:') \n",
        "print(a) \n",
        "print('\\n')  \n",
        "   \n",
        "print('Second array:') \n",
        "print(b) \n",
        "print('\\n')  \n",
        "   \n",
        "print('First Array + Second Array' )\n",
        "print(a + b)"
      ],
      "metadata": {
        "colab": {
          "base_uri": "https://localhost:8080/"
        },
        "id": "fqesD2TKm8ZE",
        "outputId": "876a1a06-07dc-4411-d0e8-84ca809aa953"
      },
      "execution_count": 14,
      "outputs": [
        {
          "output_type": "stream",
          "name": "stdout",
          "text": [
            "First array:\n",
            "[[ 0.  0.  0.]\n",
            " [10. 10. 10.]\n",
            " [20. 20. 20.]\n",
            " [30. 30. 30.]]\n",
            "\n",
            "\n",
            "Second array:\n",
            "[1. 2. 3.]\n",
            "\n",
            "\n",
            "First Array + Second Array\n",
            "[[ 1.  2.  3.]\n",
            " [11. 12. 13.]\n",
            " [21. 22. 23.]\n",
            " [31. 32. 33.]]\n"
          ]
        }
      ]
    },
    {
      "cell_type": "markdown",
      "source": [
        "### numpy.sqrt() \n",
        "\n",
        "numpy.sqrt(array[, out]) function is used to determine the positive square-root of an array, element-wise.\n",
        "\n",
        "**Syntax:** numpy.sqrt()"
      ],
      "metadata": {
        "id": "l_TfcSvln1tu"
      }
    },
    {
      "cell_type": "code",
      "source": [
        "import numpy as np \n",
        "  \n",
        "# applying sqrt() method on integer numbers \n",
        "arr1 = np.sqrt([1, 4, 9, 16])\n",
        "arr2 = np.sqrt([6, 10, 18])\n",
        "  \n",
        "print(\"square-root of an array1  : \", arr1)\n",
        "print(\"square-root of an array2  : \", arr2)"
      ],
      "metadata": {
        "colab": {
          "base_uri": "https://localhost:8080/"
        },
        "id": "QZibgOjWnnoG",
        "outputId": "470ff1ed-9a4c-4fee-9249-d0edde492b30"
      },
      "execution_count": 15,
      "outputs": [
        {
          "output_type": "stream",
          "name": "stdout",
          "text": [
            "square-root of an array1  :  [1. 2. 3. 4.]\n",
            "square-root of an array2  :  [2.44948974 3.16227766 4.24264069]\n"
          ]
        }
      ]
    },
    {
      "cell_type": "markdown",
      "source": [
        "### numpy.log()\n",
        "\n",
        "The numpy.log() is a mathematical function that helps user to calculate Natural logarithm of x where x belongs to all the input array elements.\n",
        "Natural logarithm log is the inverse of the exp(), so that log(exp(x)) = x. The natural logarithm is log in base e.\n",
        "\n",
        "**Syntax :**numpy.log(x[, out] = ufunc ‘log1p’)"
      ],
      "metadata": {
        "id": "t18Lq76goJqe"
      }
    },
    {
      "cell_type": "code",
      "source": [
        "import numpy as np\n",
        "  \n",
        "in_array = [1, 3, 5, 2**8]\n",
        "print (\"Input array : \", in_array)\n",
        "  \n",
        "out_array = np.log(in_array)\n",
        "print (\"Output array : \", out_array)\n",
        "  \n",
        "  \n",
        "print(\"\\nnp.log(4**4) : \", np.log(4**4))\n",
        "print(\"np.log(2**8) : \", np.log(2**8))"
      ],
      "metadata": {
        "colab": {
          "base_uri": "https://localhost:8080/"
        },
        "id": "jZynQGlooIqG",
        "outputId": "ff53a681-c81c-4067-ce23-7735ed6a885c"
      },
      "execution_count": 16,
      "outputs": [
        {
          "output_type": "stream",
          "name": "stdout",
          "text": [
            "Input array :  [1, 3, 5, 256]\n",
            "Output array :  [0.         1.09861229 1.60943791 5.54517744]\n",
            "\n",
            "np.log(4**4) :  5.545177444479562\n",
            "np.log(2**8) :  5.545177444479562\n"
          ]
        }
      ]
    },
    {
      "cell_type": "markdown",
      "source": [
        "### np.astype()\n",
        "\n",
        "In order to change the dtype of the given array object, we will use numpy.astype() function. The function takes an argument which is the target data type. The function supports all the generic types and built-in types of data.\n",
        "\n"
      ],
      "metadata": {
        "id": "fuFWY_cforKO"
      }
    },
    {
      "cell_type": "code",
      "source": [
        "import numpy as np\n",
        "  \n",
        "# Create a numpy array\n",
        "arr = np.array([10, 20, 30, 40, 50])\n",
        "  \n",
        "# Print the array\n",
        "print(arr)"
      ],
      "metadata": {
        "colab": {
          "base_uri": "https://localhost:8080/"
        },
        "id": "uEOkzmLVoZVu",
        "outputId": "dac2a144-40ca-49ac-f5a1-7475af6ed8f0"
      },
      "execution_count": 17,
      "outputs": [
        {
          "output_type": "stream",
          "name": "stdout",
          "text": [
            "[10 20 30 40 50]\n"
          ]
        }
      ]
    },
    {
      "cell_type": "code",
      "source": [
        "print(arr.dtype)"
      ],
      "metadata": {
        "colab": {
          "base_uri": "https://localhost:8080/"
        },
        "id": "AeZXkOyiozWG",
        "outputId": "b4039121-50c8-4fd4-a99c-b8b51960bc2c"
      },
      "execution_count": 18,
      "outputs": [
        {
          "output_type": "stream",
          "name": "stdout",
          "text": [
            "int64\n"
          ]
        }
      ]
    },
    {
      "cell_type": "code",
      "source": [
        "arr = arr.astype('float64')\n",
        "  \n",
        "# Print the array after changing\n",
        "# the data type\n",
        "print(arr)\n",
        "  \n",
        "# Also print the data type\n",
        "print(arr.dtype)"
      ],
      "metadata": {
        "colab": {
          "base_uri": "https://localhost:8080/"
        },
        "id": "jX0Q1rSko1qO",
        "outputId": "356f2d76-9939-4135-e994-324b10595379"
      },
      "execution_count": 19,
      "outputs": [
        {
          "output_type": "stream",
          "name": "stdout",
          "text": [
            "[10. 20. 30. 40. 50.]\n",
            "float64\n"
          ]
        }
      ]
    },
    {
      "cell_type": "markdown",
      "source": [
        "### numpy.sum()\n",
        "\n",
        "**numpy.sum(arr, axis, dtype, out)** : This function returns the sum of array elements over the specified axis."
      ],
      "metadata": {
        "id": "o4fiMOSWo8cu"
      }
    },
    {
      "cell_type": "code",
      "source": [
        "import numpy as np \n",
        "       \n",
        "# 1D array \n",
        "arr = [20, 2, .2, 10, 4]  \n",
        "   \n",
        "print(\"\\nSum of arr : \", np.sum(arr)) \n",
        "   \n",
        "print(\"Sum of arr(uint8) : \", np.sum(arr, dtype = np.uint8)) \n",
        "print(\"Sum of arr(float32) : \", np.sum(arr, dtype = np.float32))\n",
        "   \n",
        "print (\"\\nIs np.sum(arr).dtype == np.uint : \", \n",
        "       np.sum(arr).dtype == np.uint) \n",
        "  \n",
        "print (\"Is np.sum(arr).dtype == np.float : \", \n",
        "       np.sum(arr).dtype == np.float) "
      ],
      "metadata": {
        "colab": {
          "base_uri": "https://localhost:8080/"
        },
        "id": "t535oQz2o39G",
        "outputId": "a74fb9f0-4f2a-4d13-d77b-13984501ad65"
      },
      "execution_count": 20,
      "outputs": [
        {
          "output_type": "stream",
          "name": "stdout",
          "text": [
            "\n",
            "Sum of arr :  36.2\n",
            "Sum of arr(uint8) :  36\n",
            "Sum of arr(float32) :  36.2\n",
            "\n",
            "Is np.sum(arr).dtype == np.uint :  False\n",
            "Is np.sum(arr).dtype == np.float :  True\n"
          ]
        },
        {
          "output_type": "stream",
          "name": "stderr",
          "text": [
            "/usr/local/lib/python3.7/dist-packages/ipykernel_launcher.py:15: DeprecationWarning: `np.float` is a deprecated alias for the builtin `float`. To silence this warning, use `float` by itself. Doing this will not modify any behavior and is safe. If you specifically wanted the numpy scalar type, use `np.float64` here.\n",
            "Deprecated in NumPy 1.20; for more details and guidance: https://numpy.org/devdocs/release/1.20.0-notes.html#deprecations\n",
            "  from ipykernel import kernelapp as app\n"
          ]
        }
      ]
    },
    {
      "cell_type": "code",
      "source": [
        "import numpy as np \n",
        "       \n",
        "# 2D array  \n",
        "arr = [[14, 17, 12, 33, 44],   \n",
        "       [15, 6, 27, 8, 19],  \n",
        "       [23, 2, 54, 1, 4,]]  \n",
        "   \n",
        "print(\"\\nSum of arr : \", np.sum(arr)) \n",
        "print(\"Sum of arr(axis = 0) : \", np.sum(arr, axis = 0)) \n",
        "print(\"Sum of arr(axis = 1) : \", np.sum(arr, axis = 1))\n",
        "  \n",
        "print(\"\\nSum of arr (keepdimension is True): \\n\",\n",
        "      np.sum(arr, axis = 1, keepdims = True))"
      ],
      "metadata": {
        "colab": {
          "base_uri": "https://localhost:8080/"
        },
        "id": "eLPSK_b9pIJN",
        "outputId": "f3cb8aa2-9bc6-4e9a-e11b-2062b6af0947"
      },
      "execution_count": 21,
      "outputs": [
        {
          "output_type": "stream",
          "name": "stdout",
          "text": [
            "\n",
            "Sum of arr :  279\n",
            "Sum of arr(axis = 0) :  [52 25 93 42 67]\n",
            "Sum of arr(axis = 1) :  [120  75  84]\n",
            "\n",
            "Sum of arr (keepdimension is True): \n",
            " [[120]\n",
            " [ 75]\n",
            " [ 84]]\n"
          ]
        }
      ]
    },
    {
      "cell_type": "markdown",
      "source": [
        "### np.ceil()\n",
        "\n",
        "The numpy.ceil() is a mathematical function that returns the ceil of the elements of array. The ceil of the scalar x is the smallest integer i, such that i >= x"
      ],
      "metadata": {
        "id": "mniZQdC7poQH"
      }
    },
    {
      "cell_type": "code",
      "source": [
        "import numpy as np\n",
        "  \n",
        "in_array = [.5, 1.5, 2.5, 3.5, 4.5, 10.1]\n",
        "print (\"Input array : \\n\", in_array)\n",
        "  \n",
        "ceiloff_values = np.ceil(in_array)\n",
        "print (\"\\nRounded values : \\n\", ceiloff_values)\n",
        "  \n",
        "  \n",
        "in_array = [.53, 1.54, .71]\n",
        "print (\"\\nInput array : \\n\", in_array)\n",
        "  \n",
        "ceiloff_values = np.ceil(in_array)\n",
        "print (\"\\nRounded values : \\n\", ceiloff_values)\n",
        "  \n",
        "in_array = [.5538, 1.33354, .71445]\n",
        "print (\"\\nInput array : \\n\", in_array)\n",
        "  \n",
        "ceiloff_values = np.ceil(in_array)\n",
        "print (\"\\nRounded values : \\n\", ceiloff_values)"
      ],
      "metadata": {
        "colab": {
          "base_uri": "https://localhost:8080/"
        },
        "id": "tPADcKGqpM-e",
        "outputId": "678c75f4-bf4c-4fe4-9c00-f1e7de00c085"
      },
      "execution_count": 22,
      "outputs": [
        {
          "output_type": "stream",
          "name": "stdout",
          "text": [
            "Input array : \n",
            " [0.5, 1.5, 2.5, 3.5, 4.5, 10.1]\n",
            "\n",
            "Rounded values : \n",
            " [ 1.  2.  3.  4.  5. 11.]\n",
            "\n",
            "Input array : \n",
            " [0.53, 1.54, 0.71]\n",
            "\n",
            "Rounded values : \n",
            " [1. 2. 1.]\n",
            "\n",
            "Input array : \n",
            " [0.5538, 1.33354, 0.71445]\n",
            "\n",
            "Rounded values : \n",
            " [1. 2. 1.]\n"
          ]
        }
      ]
    },
    {
      "cell_type": "markdown",
      "source": [
        "### np.modf()\n",
        "\n",
        "modf() function is an inbuilt function in Python that returns the fractional and integer parts of the number in a two-item tuple. Both parts have the same sign as the number. The integer part is returned as a float."
      ],
      "metadata": {
        "id": "kKR2B-ibp6xP"
      }
    },
    {
      "cell_type": "code",
      "source": [
        "import numpy as np  \n",
        "  \n",
        "# modf() function used with a positive number\n",
        "print(\"np.modf(100.12) : \", np.modf(100.12))\n",
        "  \n",
        "# modf() function used with a negative number\n",
        "print(\"np.modf(-100.72) : \", np.modf(-100.72)) \n",
        "  \n",
        "print(\"np.modf(2) : \", np.modf(2)) "
      ],
      "metadata": {
        "colab": {
          "base_uri": "https://localhost:8080/"
        },
        "id": "v2X25fulpzR3",
        "outputId": "0bbe7749-a0a4-4e36-8e08-9ab4c59049d8"
      },
      "execution_count": 24,
      "outputs": [
        {
          "output_type": "stream",
          "name": "stdout",
          "text": [
            "np.modf(100.12) :  (0.12000000000000455, 100.0)\n",
            "np.modf(-100.72) :  (-0.7199999999999989, -100.0)\n",
            "np.modf(2) :  (0.0, 2.0)\n"
          ]
        }
      ]
    },
    {
      "cell_type": "markdown",
      "source": [
        "### np.where()\n",
        "\n",
        "The numpy.where() function returns the indices of elements in an input array where the given condition is satisfied.\n",
        "\n"
      ],
      "metadata": {
        "id": "uvda5C0sqUwX"
      }
    },
    {
      "cell_type": "code",
      "source": [
        "import numpy as np\n",
        "  \n",
        "np.where([[True, False], [True, True]],\n",
        "         [[1, 2], [3, 4]], [[5, 6], [7, 8]])"
      ],
      "metadata": {
        "colab": {
          "base_uri": "https://localhost:8080/"
        },
        "id": "f_BCy2l0qFJf",
        "outputId": "e0cac192-f6b4-4d74-d14f-2a84fab59b0c"
      },
      "execution_count": 25,
      "outputs": [
        {
          "output_type": "execute_result",
          "data": {
            "text/plain": [
              "array([[1, 6],\n",
              "       [3, 4]])"
            ]
          },
          "metadata": {},
          "execution_count": 25
        }
      ]
    },
    {
      "cell_type": "code",
      "source": [
        "import numpy as np\n",
        "  \n",
        "# a is an array of integers.\n",
        "a = np.array([[1, 2, 3], [4, 5, 6]])\n",
        "  \n",
        "print(a)\n",
        "  \n",
        "print ('Indices of elements <4')\n",
        "  \n",
        "b = np.where(a<4)\n",
        "print(b)\n",
        "  \n",
        "print(\"Elements which are <4\")\n",
        "print(a[b])"
      ],
      "metadata": {
        "colab": {
          "base_uri": "https://localhost:8080/"
        },
        "id": "PLfSaGokqbs_",
        "outputId": "7d22ecca-c48e-4e72-9891-2ee3d81f3797"
      },
      "execution_count": 26,
      "outputs": [
        {
          "output_type": "stream",
          "name": "stdout",
          "text": [
            "[[1 2 3]\n",
            " [4 5 6]]\n",
            "Indices of elements <4\n",
            "(array([0, 0, 0]), array([0, 1, 2]))\n",
            "Elements which are <4\n",
            "[1 2 3]\n"
          ]
        }
      ]
    },
    {
      "cell_type": "markdown",
      "source": [
        "### np.take()\n",
        "\n",
        "The numpy.take() function returns elements from array along the mentioned axis and indices."
      ],
      "metadata": {
        "id": "64hoeMK_qrrH"
      }
    },
    {
      "cell_type": "code",
      "source": [
        "import numpy as np\n",
        " \n",
        "#array = np.arange(10).reshape(2, 5)\n",
        "array = [[5, 6, 2, 7, 1],\n",
        "         [4, 9, 2, 9, 3]]\n",
        "print(\"Original array : \\n\", array)\n",
        " \n",
        "# indices = [0, 4]\n",
        "print(\"\\nTaking Indices\\n\", np.take(array, [0, 4]))\n",
        " \n",
        "# indices = [0, 4] with axis = 1\n",
        "print(\"\\nTaking Indices\\n\", np.take(array, [0, 4], axis = 1))"
      ],
      "metadata": {
        "colab": {
          "base_uri": "https://localhost:8080/"
        },
        "id": "jM63hfwZqegH",
        "outputId": "5e846985-8761-4576-f022-169f9bdaa84f"
      },
      "execution_count": 27,
      "outputs": [
        {
          "output_type": "stream",
          "name": "stdout",
          "text": [
            "Original array : \n",
            " [[5, 6, 2, 7, 1], [4, 9, 2, 9, 3]]\n",
            "\n",
            "Taking Indices\n",
            " [5 1]\n",
            "\n",
            "Taking Indices\n",
            " [[5 1]\n",
            " [4 3]]\n"
          ]
        }
      ]
    },
    {
      "cell_type": "markdown",
      "source": [
        "### np.ravel()\n",
        "\n",
        "The numpy.ravel() functions returns contiguous flattened array(1D array with all the input-array elements and with the same type as it). A copy is made only if needed. "
      ],
      "metadata": {
        "id": "hRn3kb3lrC_Y"
      }
    },
    {
      "cell_type": "code",
      "source": [
        "import numpy as np\n",
        " \n",
        "array = np.arange(15).reshape(3, 5)\n",
        "print(\"Original array : \\n\", array)\n",
        " \n",
        "# Output comes like [ 0  1  2 ..., 12 13 14]\n",
        "# as it is a long output, so it is the way of\n",
        "# showing output in Python\n",
        "print(\"\\nravel() : \", array.ravel())\n",
        " \n",
        "# This shows array.ravel is equivalent to reshape(-1, order=order).\n",
        "print(\"\\nnumpy.ravel() == numpy.reshape(-1)\")\n",
        "print(\"Reshaping array : \", array.reshape(-1))"
      ],
      "metadata": {
        "colab": {
          "base_uri": "https://localhost:8080/"
        },
        "id": "-hPj_1R5q6Cg",
        "outputId": "b480e4a4-8c08-44e4-89b3-bb9b674bbda0"
      },
      "execution_count": 29,
      "outputs": [
        {
          "output_type": "stream",
          "name": "stdout",
          "text": [
            "Original array : \n",
            " [[ 0  1  2  3  4]\n",
            " [ 5  6  7  8  9]\n",
            " [10 11 12 13 14]]\n",
            "\n",
            "ravel() :  [ 0  1  2  3  4  5  6  7  8  9 10 11 12 13 14]\n",
            "\n",
            "numpy.ravel() == numpy.reshape(-1)\n",
            "Reshaping array :  [ 0  1  2  3  4  5  6  7  8  9 10 11 12 13 14]\n"
          ]
        }
      ]
    },
    {
      "cell_type": "markdown",
      "source": [
        "### np.outer()\n",
        "\n",
        "numpy.outer() function compute the outer product of two vectors."
      ],
      "metadata": {
        "id": "SkYDjIs6syxg"
      }
    },
    {
      "cell_type": "code",
      "source": [
        "import numpy as np\n",
        "  \n",
        "a = np.ones(4)\n",
        "b = np.linspace(-1, 2, 4)\n",
        "  \n",
        "gfg = np.outer(a, b)\n",
        "  \n",
        "print(gfg)"
      ],
      "metadata": {
        "colab": {
          "base_uri": "https://localhost:8080/"
        },
        "id": "0fo3lZG-rQuu",
        "outputId": "837a7baa-c086-46ac-ee27-c668844163a6"
      },
      "execution_count": 30,
      "outputs": [
        {
          "output_type": "stream",
          "name": "stdout",
          "text": [
            "[[-1.  0.  1.  2.]\n",
            " [-1.  0.  1.  2.]\n",
            " [-1.  0.  1.  2.]\n",
            " [-1.  0.  1.  2.]]\n"
          ]
        }
      ]
    },
    {
      "cell_type": "markdown",
      "source": [
        "### np.sign()\n",
        "\n",
        "numpy.sign(array [, out]) function is used to indicate the sign of a number element-wise.\n",
        "For integer inputs, if array value is greater than 0 it returns 1, if array value is less than 0 it returns -1, and if array value 0 it returns 0."
      ],
      "metadata": {
        "id": "AwK9Ict8tIDt"
      }
    },
    {
      "cell_type": "code",
      "source": [
        "import numpy as np\n",
        "  \n",
        "# input arrays    \n",
        "array1 = [1, 0, -13]\n",
        "array2 =  [-1, 0, 15]\n",
        "  \n",
        "# print the input arrays  \n",
        "print (\"input array1 : \", array1)\n",
        "print (\"input array2 : \", array2)\n",
        "  \n",
        "# determine the sign of integer numbers in an array  \n",
        "print (\"\\nCheck sign of array1 : \", np.sign(array1))\n",
        "print (\"\\nCheck sign of array2 : \", np.sign(array2)) "
      ],
      "metadata": {
        "colab": {
          "base_uri": "https://localhost:8080/"
        },
        "id": "u7_42OGhs-zB",
        "outputId": "c4f690c0-13ea-47d7-e9b5-54d14808a5b8"
      },
      "execution_count": 31,
      "outputs": [
        {
          "output_type": "stream",
          "name": "stdout",
          "text": [
            "input array1 :  [1, 0, -13]\n",
            "input array2 :  [-1, 0, 15]\n",
            "\n",
            "Check sign of array1 :  [ 1  0 -1]\n",
            "\n",
            "Check sign of array2 :  [-1  0  1]\n"
          ]
        }
      ]
    },
    {
      "cell_type": "markdown",
      "source": [
        "### np.diff()\n",
        "\n",
        "numpy.diff(arr[, n[, axis]]) function is used when we calculate the n-th order discrete difference along the given axis. The first order difference is given by out[i] = arr[i+1] – arr[i] along the given axis. If we have to calculate higher differences, we are using diff recursively."
      ],
      "metadata": {
        "id": "G-vyqRDwtZKR"
      }
    },
    {
      "cell_type": "code",
      "source": [
        "import numpy as np\n",
        " \n",
        "# input array\n",
        "arr = np.array([1, 3, 4, 7, 9])\n",
        "  \n",
        "print(\"Input array  : \", arr)\n",
        "print(\"First order difference  : \", np.diff(arr))\n",
        "print(\"Second order difference : \", np.diff(arr, n = 2))\n",
        "print(\"Third order difference  : \", np.diff(arr, n = 3))"
      ],
      "metadata": {
        "colab": {
          "base_uri": "https://localhost:8080/"
        },
        "id": "fMcJC2O6tTfA",
        "outputId": "3b7b9c1a-d149-49a1-9bd1-bb478d618367"
      },
      "execution_count": 32,
      "outputs": [
        {
          "output_type": "stream",
          "name": "stdout",
          "text": [
            "Input array  :  [1 3 4 7 9]\n",
            "First order difference  :  [2 1 3 2]\n",
            "Second order difference :  [-1  2 -1]\n",
            "Third order difference  :  [ 3 -3]\n"
          ]
        }
      ]
    },
    {
      "cell_type": "markdown",
      "source": [
        "### np.compress()\n",
        "\n",
        "The numpy.compress() function returns selected slices of an array along mentioned axis, that satisfies an axis."
      ],
      "metadata": {
        "id": "NZR1Shast6ZJ"
      }
    },
    {
      "cell_type": "code",
      "source": [
        "import numpy as np\n",
        "  \n",
        "array = np.arange(10).reshape(5, 2)\n",
        "print(\"Original array : \\n\", array)\n",
        "  \n",
        "a = np.compress([0, 1], array, axis=0)\n",
        "print(\"\\nSliced array : \\n\", a)\n",
        "  \n",
        "a = np.compress([False, True], array, axis=0)\n",
        "print(\"\\nSliced array : \\n\", a)"
      ],
      "metadata": {
        "colab": {
          "base_uri": "https://localhost:8080/"
        },
        "id": "jUGLu-11tmMA",
        "outputId": "354ed49a-ff7d-469e-f3d6-3e996f2cbc94"
      },
      "execution_count": 33,
      "outputs": [
        {
          "output_type": "stream",
          "name": "stdout",
          "text": [
            "Original array : \n",
            " [[0 1]\n",
            " [2 3]\n",
            " [4 5]\n",
            " [6 7]\n",
            " [8 9]]\n",
            "\n",
            "Sliced array : \n",
            " [[2 3]]\n",
            "\n",
            "Sliced array : \n",
            " [[2 3]]\n"
          ]
        }
      ]
    }
  ]
}