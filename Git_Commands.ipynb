{
  "nbformat": 4,
  "nbformat_minor": 0,
  "metadata": {
    "colab": {
      "name": "Git Commands.ipynb",
      "provenance": [],
      "authorship_tag": "ABX9TyN5PcF6BJwGqDw+9DuhIjnF",
      "include_colab_link": true
    },
    "kernelspec": {
      "name": "python3",
      "display_name": "Python 3"
    },
    "language_info": {
      "name": "python"
    }
  },
  "cells": [
    {
      "cell_type": "markdown",
      "metadata": {
        "id": "view-in-github",
        "colab_type": "text"
      },
      "source": [
        "<a href=\"https://colab.research.google.com/github/tyler04/Python-Materials/blob/main/Git_Commands.ipynb\" target=\"_parent\"><img src=\"https://colab.research.google.com/assets/colab-badge.svg\" alt=\"Open In Colab\"/></a>"
      ]
    },
    {
      "cell_type": "markdown",
      "source": [
        "# Git Commands\n",
        "\n"
      ],
      "metadata": {
        "id": "h02y2o9hH50m"
      }
    },
    {
      "cell_type": "markdown",
      "source": [
        "**git config**: This command sets the author name and email address respectively to be used with your commits."
      ],
      "metadata": {
        "id": "sDEK8Al_KDWt"
      }
    },
    {
      "cell_type": "code",
      "source": [
        "git config –global user.name “[name]”"
      ],
      "metadata": {
        "id": "HseNh42RKk3b"
      },
      "execution_count": null,
      "outputs": []
    },
    {
      "cell_type": "code",
      "source": [
        "git config –global user.email “[email address]”"
      ],
      "metadata": {
        "id": "RwguY62eKser"
      },
      "execution_count": 1,
      "outputs": []
    },
    {
      "cell_type": "markdown",
      "source": [
        "**git init**: This command is used to start a new repository.\n",
        "\n"
      ],
      "metadata": {
        "id": "HERs_HfFK3s7"
      }
    },
    {
      "cell_type": "code",
      "source": [
        "git init [repository name]"
      ],
      "metadata": {
        "id": "YTzszw-eKxbr"
      },
      "execution_count": null,
      "outputs": []
    },
    {
      "cell_type": "markdown",
      "source": [
        "**git clone**: This command is used to obtain a repository from an existing URL."
      ],
      "metadata": {
        "id": "JcPk41ZFLHEk"
      }
    },
    {
      "cell_type": "code",
      "source": [
        "git clone [url]"
      ],
      "metadata": {
        "id": "jOzCOf46LURk"
      },
      "execution_count": null,
      "outputs": []
    },
    {
      "cell_type": "markdown",
      "source": [
        "**git add**: This command adds a file to the staging area."
      ],
      "metadata": {
        "id": "8XEE4qZYLT0b"
      }
    },
    {
      "cell_type": "code",
      "source": [
        "git add [file] #for adding a single file\n",
        "git add -A #for adding all files"
      ],
      "metadata": {
        "id": "9QF5SkM4LeFL"
      },
      "execution_count": null,
      "outputs": []
    },
    {
      "cell_type": "markdown",
      "source": [
        "**git commit**: This command records or snapshots the file permanently in the version history."
      ],
      "metadata": {
        "id": "uRGOim-DLprM"
      }
    },
    {
      "cell_type": "code",
      "source": [
        "git commit -m “[ Type in the commit message]”"
      ],
      "metadata": {
        "id": "r5iMgUHgLhyD"
      },
      "execution_count": null,
      "outputs": []
    },
    {
      "cell_type": "markdown",
      "source": [
        "**git diff**: "
      ],
      "metadata": {
        "id": "e7WE3t3VLzz8"
      }
    },
    {
      "cell_type": "code",
      "source": [
        "git diff  #This command shows the file differences which are not yet staged.\n",
        "git diff –staged  #This command shows the differences between the files in the staging area and the latest version present.\n",
        "git diff [first branch] [second branch] #This command shows the differences between the two branches mentioned."
      ],
      "metadata": {
        "id": "10496acML7ZD"
      },
      "execution_count": null,
      "outputs": []
    },
    {
      "cell_type": "markdown",
      "source": [
        "**git status**: This command lists all the files that have to be committed."
      ],
      "metadata": {
        "id": "ytEequPVMM7j"
      }
    },
    {
      "cell_type": "code",
      "source": [
        "git status"
      ],
      "metadata": {
        "id": "pXkJs31GMeqz"
      },
      "execution_count": null,
      "outputs": []
    },
    {
      "cell_type": "markdown",
      "source": [
        "**git log**: This command is used to list the version history for the current branch."
      ],
      "metadata": {
        "id": "rzrls_jGMhm5"
      }
    },
    {
      "cell_type": "code",
      "source": [
        "git log"
      ],
      "metadata": {
        "id": "sOD59pmTMpUT"
      },
      "execution_count": null,
      "outputs": []
    },
    {
      "cell_type": "markdown",
      "source": [
        "**git checkout**: "
      ],
      "metadata": {
        "id": "YK6ei6xFMsbj"
      }
    },
    {
      "cell_type": "code",
      "source": [
        "git checkout [branch name] #This command is used to switch from one branch to another.\n",
        "git checkout -b [branch name] #This command creates a new branch and also switches to it."
      ],
      "metadata": {
        "id": "fUmc65UHNJh7"
      },
      "execution_count": null,
      "outputs": []
    },
    {
      "cell_type": "markdown",
      "source": [
        "**git remote**: This command is used to connect your local repository to the remote server."
      ],
      "metadata": {
        "id": "yCBFrIpoNp7E"
      }
    },
    {
      "cell_type": "code",
      "source": [
        "git remote add [variable name] [Remote Server Link]\n",
        "git remote add origin [link]"
      ],
      "metadata": {
        "id": "q_sNHqT1NuPb"
      },
      "execution_count": null,
      "outputs": []
    },
    {
      "cell_type": "markdown",
      "source": [
        "**git push**: This command sends the committed changes of master branch to your remote repository."
      ],
      "metadata": {
        "id": "Tyk0NGCkN1XD"
      }
    },
    {
      "cell_type": "code",
      "source": [
        "git push [variable name] master  \n",
        "git push origin master\n",
        "\n",
        "git push [variable name] [branch] #This command sends the branch commits to your remote repository.\n",
        "git push –all [variable name]    #This command pushes all branches to your remote repository.\n",
        "git push [variable name] :[branch name]  #This command deletes a branch on your remote repository."
      ],
      "metadata": {
        "id": "ch0YhR3yN7Gj"
      },
      "execution_count": null,
      "outputs": []
    },
    {
      "cell_type": "markdown",
      "source": [
        "**git pull**: This command fetches and merges changes on the remote server to your working directory."
      ],
      "metadata": {
        "id": "iWHPmINBN_6j"
      }
    },
    {
      "cell_type": "code",
      "source": [
        "git pull [Repository Link]  "
      ],
      "metadata": {
        "id": "cMi9l3v4OYmR"
      },
      "execution_count": null,
      "outputs": []
    }
  ]
}