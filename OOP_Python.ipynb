{
  "nbformat": 4,
  "nbformat_minor": 0,
  "metadata": {
    "colab": {
      "name": "OOP Python.ipynb",
      "provenance": [],
      "authorship_tag": "ABX9TyPoGWU7+rwkoyWJadthmsAP",
      "include_colab_link": true
    },
    "kernelspec": {
      "name": "python3",
      "display_name": "Python 3"
    },
    "language_info": {
      "name": "python"
    }
  },
  "cells": [
    {
      "cell_type": "markdown",
      "metadata": {
        "id": "view-in-github",
        "colab_type": "text"
      },
      "source": [
        "<a href=\"https://colab.research.google.com/github/tyler04/Python-Materials/blob/main/OOP_Python.ipynb\" target=\"_parent\"><img src=\"https://colab.research.google.com/assets/colab-badge.svg\" alt=\"Open In Colab\"/></a>"
      ]
    },
    {
      "cell_type": "markdown",
      "source": [
        "### OOP: Codewithharry\n"
      ],
      "metadata": {
        "id": "G2g1KULNgciL"
      }
    },
    {
      "cell_type": "markdown",
      "source": [
        "Class is a template, or can be considered as a blueprint."
      ],
      "metadata": {
        "id": "0-8H7k4TjkzJ"
      }
    },
    {
      "cell_type": "code",
      "execution_count": 1,
      "metadata": {
        "id": "0SulSzAqgQE4"
      },
      "outputs": [],
      "source": [
        "class Employee:\n",
        "  pass"
      ]
    },
    {
      "cell_type": "code",
      "source": [
        "harry= Employee()\n",
        "rohan= Employee()"
      ],
      "metadata": {
        "id": "bwyFxRy7j3tg"
      },
      "execution_count": 2,
      "outputs": []
    },
    {
      "cell_type": "code",
      "source": [
        "harry.fname=\"harry\"\n",
        "harry.lname=\"jackson\"\n",
        "harry.salary= 44000\n",
        "\n",
        "rohan.fname=\"rohan\"\n",
        "rohan.lname=\"das\"\n",
        "rohan.salary= 44000\n"
      ],
      "metadata": {
        "id": "ySc-ixNBj-fW"
      },
      "execution_count": 3,
      "outputs": []
    },
    {
      "cell_type": "code",
      "source": [
        "print(harry.fname, rohan.fname)"
      ],
      "metadata": {
        "colab": {
          "base_uri": "https://localhost:8080/"
        },
        "id": "r5kyjyeFkbOW",
        "outputId": "ca05eeba-0ce4-4b8f-921f-17bcea5e1372"
      },
      "execution_count": 4,
      "outputs": [
        {
          "output_type": "stream",
          "name": "stdout",
          "text": [
            "harry rohan\n"
          ]
        }
      ]
    },
    {
      "cell_type": "code",
      "source": [
        "print(harry, rohan)"
      ],
      "metadata": {
        "colab": {
          "base_uri": "https://localhost:8080/"
        },
        "id": "GdWtvpAxkfIR",
        "outputId": "9e22e17e-0791-4156-e9cd-54e58452ae52"
      },
      "execution_count": 5,
      "outputs": [
        {
          "output_type": "stream",
          "name": "stdout",
          "text": [
            "<__main__.Employee object at 0x7f5a684d04d0> <__main__.Employee object at 0x7f5a565d7710>\n"
          ]
        }
      ]
    },
    {
      "cell_type": "markdown",
      "source": [
        "The code reusability is low in this format, we can improve this by using different methods. Further, it is shown that harry and rohan are two class objects with different addresses. Both are object of same class but not the same thing."
      ],
      "metadata": {
        "id": "Iq5d7erokrLD"
      }
    },
    {
      "cell_type": "code",
      "source": [
        "class Employee:\n",
        "  #constructor\n",
        "  def __init__(self, fname, lname, salary):\n",
        "    self.fname=fname\n",
        "    self.lname=lname\n",
        "    self.salary= salary\n",
        "    "
      ],
      "metadata": {
        "id": "_vvxSatBkp0M"
      },
      "execution_count": 6,
      "outputs": []
    },
    {
      "cell_type": "code",
      "source": [
        "harry= Employee('harry', 'jackson', 44000)\n",
        "rohan= Employee('rohan', 'das', 44000)"
      ],
      "metadata": {
        "id": "taHZVdSblioc"
      },
      "execution_count": 7,
      "outputs": []
    },
    {
      "cell_type": "code",
      "source": [
        "print(harry.fname)"
      ],
      "metadata": {
        "colab": {
          "base_uri": "https://localhost:8080/"
        },
        "id": "QwTc3ZuGlyFn",
        "outputId": "401eac7f-87c0-4f99-c57a-7d64c93497c4"
      },
      "execution_count": 8,
      "outputs": [
        {
          "output_type": "stream",
          "name": "stdout",
          "text": [
            "harry\n"
          ]
        }
      ]
    },
    {
      "cell_type": "code",
      "source": [
        "print(harry.salary)"
      ],
      "metadata": {
        "colab": {
          "base_uri": "https://localhost:8080/"
        },
        "id": "E2VYRL_gl0fs",
        "outputId": "69dfc27c-1d7b-403a-d666-88a06cdd07d9"
      },
      "execution_count": 9,
      "outputs": [
        {
          "output_type": "stream",
          "name": "stdout",
          "text": [
            "44000\n"
          ]
        }
      ]
    },
    {
      "cell_type": "code",
      "source": [
        ""
      ],
      "metadata": {
        "id": "o2tdjsMHl5RJ"
      },
      "execution_count": null,
      "outputs": []
    }
  ]
}