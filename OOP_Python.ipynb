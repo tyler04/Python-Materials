{
  "nbformat": 4,
  "nbformat_minor": 0,
  "metadata": {
    "colab": {
      "name": "OOP Python.ipynb",
      "provenance": [],
      "collapsed_sections": [],
      "authorship_tag": "ABX9TyM92piKI29WWoA5pOHMnE56",
      "include_colab_link": true
    },
    "kernelspec": {
      "name": "python3",
      "display_name": "Python 3"
    },
    "language_info": {
      "name": "python"
    }
  },
  "cells": [
    {
      "cell_type": "markdown",
      "metadata": {
        "id": "view-in-github",
        "colab_type": "text"
      },
      "source": [
        "<a href=\"https://colab.research.google.com/github/tyler04/Python-Materials/blob/main/OOP_Python.ipynb\" target=\"_parent\"><img src=\"https://colab.research.google.com/assets/colab-badge.svg\" alt=\"Open In Colab\"/></a>"
      ]
    },
    {
      "cell_type": "markdown",
      "source": [
        "### OOP: Codewithharry\n"
      ],
      "metadata": {
        "id": "G2g1KULNgciL"
      }
    },
    {
      "cell_type": "markdown",
      "source": [
        "Class is a template, or can be considered as a blueprint."
      ],
      "metadata": {
        "id": "0-8H7k4TjkzJ"
      }
    },
    {
      "cell_type": "code",
      "execution_count": 1,
      "metadata": {
        "id": "0SulSzAqgQE4"
      },
      "outputs": [],
      "source": [
        "class Employee:\n",
        "  pass"
      ]
    },
    {
      "cell_type": "code",
      "source": [
        "harry= Employee()\n",
        "rohan= Employee()"
      ],
      "metadata": {
        "id": "bwyFxRy7j3tg"
      },
      "execution_count": 2,
      "outputs": []
    },
    {
      "cell_type": "code",
      "source": [
        "harry.fname=\"harry\"\n",
        "harry.lname=\"jackson\"\n",
        "harry.salary= 44000\n",
        "\n",
        "rohan.fname=\"rohan\"\n",
        "rohan.lname=\"das\"\n",
        "rohan.salary= 44000\n"
      ],
      "metadata": {
        "id": "ySc-ixNBj-fW"
      },
      "execution_count": 3,
      "outputs": []
    },
    {
      "cell_type": "code",
      "source": [
        "print(harry.fname, rohan.fname)"
      ],
      "metadata": {
        "colab": {
          "base_uri": "https://localhost:8080/"
        },
        "id": "r5kyjyeFkbOW",
        "outputId": "ca05eeba-0ce4-4b8f-921f-17bcea5e1372"
      },
      "execution_count": 4,
      "outputs": [
        {
          "output_type": "stream",
          "name": "stdout",
          "text": [
            "harry rohan\n"
          ]
        }
      ]
    },
    {
      "cell_type": "code",
      "source": [
        "print(harry, rohan)"
      ],
      "metadata": {
        "colab": {
          "base_uri": "https://localhost:8080/"
        },
        "id": "GdWtvpAxkfIR",
        "outputId": "9e22e17e-0791-4156-e9cd-54e58452ae52"
      },
      "execution_count": 5,
      "outputs": [
        {
          "output_type": "stream",
          "name": "stdout",
          "text": [
            "<__main__.Employee object at 0x7f5a684d04d0> <__main__.Employee object at 0x7f5a565d7710>\n"
          ]
        }
      ]
    },
    {
      "cell_type": "markdown",
      "source": [
        "The code reusability is low in this format, we can improve this by using different methods. Further, it is shown that harry and rohan are two class objects with different addresses. Both are object of same class but not the same thing."
      ],
      "metadata": {
        "id": "Iq5d7erokrLD"
      }
    },
    {
      "cell_type": "code",
      "source": [
        "class Employee:\n",
        "  #constructor\n",
        "  def __init__(self, fname, lname, salary):\n",
        "    self.fname=fname\n",
        "    self.lname=lname\n",
        "    self.salary= salary\n",
        "    "
      ],
      "metadata": {
        "id": "_vvxSatBkp0M"
      },
      "execution_count": 6,
      "outputs": []
    },
    {
      "cell_type": "code",
      "source": [
        "harry= Employee('harry', 'jackson', 44000)\n",
        "rohan= Employee('rohan', 'das', 44000)"
      ],
      "metadata": {
        "id": "taHZVdSblioc"
      },
      "execution_count": 7,
      "outputs": []
    },
    {
      "cell_type": "code",
      "source": [
        "print(harry.fname)"
      ],
      "metadata": {
        "colab": {
          "base_uri": "https://localhost:8080/"
        },
        "id": "QwTc3ZuGlyFn",
        "outputId": "401eac7f-87c0-4f99-c57a-7d64c93497c4"
      },
      "execution_count": 8,
      "outputs": [
        {
          "output_type": "stream",
          "name": "stdout",
          "text": [
            "harry\n"
          ]
        }
      ]
    },
    {
      "cell_type": "code",
      "source": [
        "print(harry.salary)"
      ],
      "metadata": {
        "colab": {
          "base_uri": "https://localhost:8080/"
        },
        "id": "E2VYRL_gl0fs",
        "outputId": "69dfc27c-1d7b-403a-d666-88a06cdd07d9"
      },
      "execution_count": 9,
      "outputs": [
        {
          "output_type": "stream",
          "name": "stdout",
          "text": [
            "44000\n"
          ]
        }
      ]
    },
    {
      "cell_type": "markdown",
      "source": [
        "There are certain variables or attributes which will be common in every employee, like raise, number of employees, these can be treated as a class variable."
      ],
      "metadata": {
        "id": "v3ElIC1hnMAK"
      }
    },
    {
      "cell_type": "code",
      "source": [
        "class Employee:\n",
        "  increment=1.5 #class variable\n",
        "  #constructor\n",
        "  def __init__(self, fname, lname, salary):\n",
        "    self.fname=fname\n",
        "    self.lname=lname\n",
        "    self.salary= salary\n",
        "  def increase(self):\n",
        "    pass"
      ],
      "metadata": {
        "id": "o2tdjsMHl5RJ"
      },
      "execution_count": 12,
      "outputs": []
    },
    {
      "cell_type": "code",
      "source": [
        "harry= Employee('harry', 'jackson', 44000)\n",
        "rohan= Employee('rohan', 'das', 44000)\n",
        "harry.increase() #it may seem there is no arguement but 'self' is passed through"
      ],
      "metadata": {
        "id": "lU03ikWrntKq"
      },
      "execution_count": 16,
      "outputs": []
    },
    {
      "cell_type": "code",
      "source": [
        "class Employee:\n",
        "  increment=1.5 #class variable\n",
        "  #constructor\n",
        "  def __init__(self, fname, lname, salary):\n",
        "    self.fname=fname\n",
        "    self.lname=lname\n",
        "    self.salary= salary\n",
        "  def increase(): #now we are omitting self\n",
        "    pass\n",
        "harry= Employee('harry', 'jackson', 44000)\n",
        "harry.increase()"
      ],
      "metadata": {
        "colab": {
          "base_uri": "https://localhost:8080/",
          "height": 200
        },
        "id": "MmHZoX9Rnv9Z",
        "outputId": "bd5e2be5-36ed-411d-b86f-8305ed6c9f36"
      },
      "execution_count": 17,
      "outputs": [
        {
          "output_type": "error",
          "ename": "TypeError",
          "evalue": "ignored",
          "traceback": [
            "\u001b[0;31m---------------------------------------------------------------------------\u001b[0m",
            "\u001b[0;31mTypeError\u001b[0m                                 Traceback (most recent call last)",
            "\u001b[0;32m<ipython-input-17-4acbf1d708e0>\u001b[0m in \u001b[0;36m<module>\u001b[0;34m()\u001b[0m\n\u001b[1;32m      9\u001b[0m     \u001b[0;32mpass\u001b[0m\u001b[0;34m\u001b[0m\u001b[0;34m\u001b[0m\u001b[0m\n\u001b[1;32m     10\u001b[0m \u001b[0mharry\u001b[0m\u001b[0;34m=\u001b[0m \u001b[0mEmployee\u001b[0m\u001b[0;34m(\u001b[0m\u001b[0;34m'harry'\u001b[0m\u001b[0;34m,\u001b[0m \u001b[0;34m'jackson'\u001b[0m\u001b[0;34m,\u001b[0m \u001b[0;36m44000\u001b[0m\u001b[0;34m)\u001b[0m\u001b[0;34m\u001b[0m\u001b[0;34m\u001b[0m\u001b[0m\n\u001b[0;32m---> 11\u001b[0;31m \u001b[0mharry\u001b[0m\u001b[0;34m.\u001b[0m\u001b[0mincrease\u001b[0m\u001b[0;34m(\u001b[0m\u001b[0;34m)\u001b[0m\u001b[0;34m\u001b[0m\u001b[0;34m\u001b[0m\u001b[0m\n\u001b[0m",
            "\u001b[0;31mTypeError\u001b[0m: increase() takes 0 positional arguments but 1 was given"
          ]
        }
      ]
    },
    {
      "cell_type": "markdown",
      "source": [
        "There are two ways to access the variables in a class\n",
        "\n",
        "\n",
        "1.   By accessing the instance of a class \n",
        "2.   By accessing the instance of the class\n",
        "\n",
        "\n",
        "\n"
      ],
      "metadata": {
        "id": "f5lq9rkNosYc"
      }
    },
    {
      "cell_type": "code",
      "source": [
        "class Employee:\n",
        "  increment=1.5 #class variable\n",
        "  #constructor\n",
        "  def __init__(self, fname, lname, salary):\n",
        "    self.fname=fname\n",
        "    self.lname=lname\n",
        "    self.salary= int(salary)\n",
        "  def increase(self):\n",
        "    #self.salary=self.salary * self.increment \n",
        "    self.salary=int(self.salary * Employee.increment)"
      ],
      "metadata": {
        "id": "eMXFDf_Bof_d"
      },
      "execution_count": 21,
      "outputs": []
    },
    {
      "cell_type": "markdown",
      "source": [
        "The difference between the two is that, in self.increment it will first search inside the __init__ method for the variable increment, if not found will move to the class Employee.\n",
        "\n",
        "In Employee.increment, it will directly search inside the class for increment."
      ],
      "metadata": {
        "id": "b7qnBtkXpUaA"
      }
    },
    {
      "cell_type": "code",
      "source": [
        "harry= Employee('harry', 'jackson', 44000)\n",
        "print(harry.salary)\n",
        "harry.increase()\n",
        "print(harry.salary)\n"
      ],
      "metadata": {
        "colab": {
          "base_uri": "https://localhost:8080/"
        },
        "id": "SWKgCKlnpPQn",
        "outputId": "bba71f1b-0723-472c-bc0f-a50143c53993"
      },
      "execution_count": 22,
      "outputs": [
        {
          "output_type": "stream",
          "name": "stdout",
          "text": [
            "44000\n",
            "66000\n"
          ]
        }
      ]
    },
    {
      "cell_type": "code",
      "source": [
        "class Employee:\n",
        "  increment=1.5 #class variable\n",
        "  #constructor\n",
        "  def __init__(self, fname, lname, salary):\n",
        "    self.fname=fname\n",
        "    self.lname=lname\n",
        "    self.salary= int(salary)\n",
        "    self.increment= 2\n",
        "  def increase(self):\n",
        "    self.salary=self.salary * self.increment \n",
        "    #self.salary=int(self.salary * Employee.increment)"
      ],
      "metadata": {
        "id": "tJkBoKBwqCa5"
      },
      "execution_count": 23,
      "outputs": []
    },
    {
      "cell_type": "code",
      "source": [
        "harry= Employee('harry', 'jackson', 44000)\n",
        "print(harry.salary)\n",
        "harry.increase()\n",
        "print(harry.salary)\n"
      ],
      "metadata": {
        "colab": {
          "base_uri": "https://localhost:8080/"
        },
        "id": "ujbdkohfqUMp",
        "outputId": "0829ee8e-40d2-4a41-b6f4-2a69c96e7a46"
      },
      "execution_count": 24,
      "outputs": [
        {
          "output_type": "stream",
          "name": "stdout",
          "text": [
            "44000\n",
            "88000\n"
          ]
        }
      ]
    },
    {
      "cell_type": "code",
      "source": [
        "class Employee:\n",
        "  #class variable\n",
        "  increment=1.5 \n",
        "  no_of_employee= 0\n",
        "  #constructor\n",
        "  def __init__(self, fname, lname, salary):\n",
        "    self.fname=fname\n",
        "    self.lname=lname\n",
        "    self.salary= int(salary)\n",
        "    self.increment= 2\n",
        "    Employee.no_of_employee += 1 \n",
        "  def increase(self):\n",
        "    self.salary=self.salary * self.increment \n",
        "    #self.salary=int(self.salary * Employee.increment)"
      ],
      "metadata": {
        "id": "oQ_WJ4laqWbm"
      },
      "execution_count": 26,
      "outputs": []
    },
    {
      "cell_type": "code",
      "source": [
        "print(Employee.no_of_employee)\n",
        "harry= Employee('harry', 'jackson', 44000)\n",
        "rohan= Employee('rohan', 'das', 44000)\n",
        "print(Employee.no_of_employee)"
      ],
      "metadata": {
        "colab": {
          "base_uri": "https://localhost:8080/"
        },
        "id": "7kWXX4mcvOHj",
        "outputId": "132884bd-5d5d-453f-e9f5-37ab0d0d13e6"
      },
      "execution_count": 27,
      "outputs": [
        {
          "output_type": "stream",
          "name": "stdout",
          "text": [
            "0\n",
            "2\n"
          ]
        }
      ]
    },
    {
      "cell_type": "markdown",
      "source": [
        "**Classmethods**\n",
        "\n",
        "Sometimes we don't want to pass the self aruguement unnecessarily, like when we want to change one variable of a class. So we can use classmethod, which takes class as an arguement.\n",
        "\n",
        "To use classmethod, we have to first use a decorator. @classmethod\n",
        "\n",
        "\n",
        "---\n",
        "\n",
        "\n",
        "\n",
        "The @classmethod decorator is a built-in function decorator that is an expression that gets evaluated after your function is defined. The result of that evaluation shadows your function definition. \n",
        "A class method receives the class as an implicit first argument, just like an instance method receives the instance.\n",
        "\n",
        "\n",
        "\n",
        "*   A class method is a method that is bound to the class and not the object of the class.\n",
        "* They have the access to the state of the class as it takes a class parameter that points to the class and not the object instance.\n",
        "* It can modify a class state that would apply across all the instances of the class. For example, it can modify a class variable that will be applicable to all the instances.\n",
        "\n"
      ],
      "metadata": {
        "id": "pJfTLJvQ5fSQ"
      }
    },
    {
      "cell_type": "code",
      "source": [
        "class Employee:\n",
        "  #class variable\n",
        "  increment=1.5 \n",
        "  no_of_employee= 0\n",
        "  #constructor\n",
        "  def __init__(self, fname, lname, salary):\n",
        "    self.fname=fname\n",
        "    self.lname=lname\n",
        "    self.salary= int(salary)\n",
        "    self.increment= 2\n",
        "    Employee.no_of_employee += 1 \n",
        "  def increase(self):\n",
        "    #self.salary=self.salary * self.increment \n",
        "    self.salary=int(self.salary * Employee.increment)\n",
        "\n",
        "  @classmethod\n",
        "  def change_increment(cls, amount):\n",
        "    cls.increment=amount\n"
      ],
      "metadata": {
        "id": "kgVc7Q2gvgg6"
      },
      "execution_count": 28,
      "outputs": []
    },
    {
      "cell_type": "code",
      "source": [
        "harry= Employee('harry', 'jackson', 44000)\n",
        "print(harry.salary)\n",
        "Employee.change_increment(3)\n",
        "harry.increase()\n",
        "print(harry.salary)"
      ],
      "metadata": {
        "colab": {
          "base_uri": "https://localhost:8080/"
        },
        "id": "CFFvstbF6Whs",
        "outputId": "6a203513-5d15-40c8-a55d-8f0cbccc9411"
      },
      "execution_count": 30,
      "outputs": [
        {
          "output_type": "stream",
          "name": "stdout",
          "text": [
            "44000\n",
            "132000\n"
          ]
        }
      ]
    },
    {
      "cell_type": "markdown",
      "source": [
        "Class method can also be used as alternative constructors."
      ],
      "metadata": {
        "id": "QahA2Nej7Dpy"
      }
    },
    {
      "cell_type": "code",
      "source": [
        "class Employee:\n",
        "  #class variable\n",
        "  increment=1.5 \n",
        "  no_of_employee= 0\n",
        "  #constructor\n",
        "  def __init__(self, fname, lname, salary):\n",
        "    self.fname=fname\n",
        "    self.lname=lname\n",
        "    self.salary= int(salary)\n",
        "    self.increment= 2\n",
        "    Employee.no_of_employee += 1 \n",
        "  def increase(self):\n",
        "    #self.salary=self.salary * self.increment \n",
        "    self.salary=int(self.salary * Employee.increment)\n",
        "\n",
        "  @classmethod\n",
        "  def change_increment(cls, amount):\n",
        "    cls.increment=amount\n",
        "  @classmethod\n",
        "  def from_str(cls, emp_string):\n",
        "    fname, lname, salary = emp_string.split(\"-\")\n",
        "    return cls(fname, lname, salary)\n"
      ],
      "metadata": {
        "id": "PgOvS4k86bew"
      },
      "execution_count": 32,
      "outputs": []
    },
    {
      "cell_type": "code",
      "source": [
        "harry= Employee('harry', 'jackson', 44000)\n",
        "lovish = Employee.from_str(\"lovish-sharma-9000\")"
      ],
      "metadata": {
        "id": "HyElLrOE7p9I"
      },
      "execution_count": 34,
      "outputs": []
    },
    {
      "cell_type": "code",
      "source": [
        "print(lovish.fname)"
      ],
      "metadata": {
        "colab": {
          "base_uri": "https://localhost:8080/"
        },
        "id": "v-YM9LyS79UF",
        "outputId": "fb2cc98f-b2fb-4bc8-f737-81e86e6d2e44"
      },
      "execution_count": 35,
      "outputs": [
        {
          "output_type": "stream",
          "name": "stdout",
          "text": [
            "lovish\n"
          ]
        }
      ]
    },
    {
      "cell_type": "markdown",
      "source": [
        "**Static Method**\n",
        "\n",
        "When we don't need to pass class or instance as an arguement then we use static function. It is similar to functions in python.\n",
        "\n",
        "Decorator used: @staticmethod\n",
        "\n",
        "\n",
        "\n",
        "---\n",
        "\n",
        "\n",
        "A static method does not receive an implicit first argument. \n",
        "* A static method is also a method that is bound to the class and not the object of the class.\n",
        "* A static method can’t access or modify the class state.\n",
        "* It is present in a class because it makes sense for the method to be present in class."
      ],
      "metadata": {
        "id": "6nBT92gT88zp"
      }
    },
    {
      "cell_type": "code",
      "source": [
        "class Employee:\n",
        "  #class variable\n",
        "  increment=1.5 \n",
        "  no_of_employee= 0\n",
        "  #constructor\n",
        "  def __init__(self, fname, lname, salary):\n",
        "    self.fname=fname\n",
        "    self.lname=lname\n",
        "    self.salary= int(salary)\n",
        "    self.increment= 2\n",
        "    Employee.no_of_employee += 1 \n",
        "  def increase(self):\n",
        "    #self.salary=self.salary * self.increment \n",
        "    self.salary=int(self.salary * Employee.increment)\n",
        "\n",
        "  @classmethod\n",
        "  def change_increment(cls, amount):\n",
        "    cls.increment=amount\n",
        "  @classmethod\n",
        "  def from_str(cls, emp_string):\n",
        "    fname, lname, salary = emp_string.split(\"-\")\n",
        "    return cls(fname, lname, salary)\n",
        "  @staticmethod\n",
        "  def isopen(day):\n",
        "    if day == 'sunday':\n",
        "      return False\n",
        "    else:\n",
        "      return True\n",
        "      \n",
        "\n"
      ],
      "metadata": {
        "id": "lxoBtrpD8Gvd"
      },
      "execution_count": 36,
      "outputs": []
    },
    {
      "cell_type": "code",
      "source": [
        "print(Employee.isopen('monday')) # creating objects is not necessary to access isopen because it is a static function"
      ],
      "metadata": {
        "colab": {
          "base_uri": "https://localhost:8080/"
        },
        "id": "GsTXj9MG-Plf",
        "outputId": "ecd19cf0-f29c-4cac-b80b-f956b0381a4f"
      },
      "execution_count": 40,
      "outputs": [
        {
          "output_type": "stream",
          "name": "stdout",
          "text": [
            "True\n"
          ]
        }
      ]
    },
    {
      "cell_type": "code",
      "source": [
        "harry= Employee('harry', 'jackson', 44000)\n",
        "print(harry.isopen('sunday'))"
      ],
      "metadata": {
        "colab": {
          "base_uri": "https://localhost:8080/"
        },
        "id": "bQjcKJuU-Y9S",
        "outputId": "8119b2d2-7570-4105-d95c-95df9525d031"
      },
      "execution_count": 41,
      "outputs": [
        {
          "output_type": "stream",
          "name": "stdout",
          "text": [
            "False\n"
          ]
        }
      ]
    },
    {
      "cell_type": "code",
      "source": [
        ""
      ],
      "metadata": {
        "id": "nIgonchX-kLI"
      },
      "execution_count": null,
      "outputs": []
    }
  ]
}