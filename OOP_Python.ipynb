{
  "nbformat": 4,
  "nbformat_minor": 0,
  "metadata": {
    "colab": {
      "name": "OOP Python.ipynb",
      "provenance": [],
      "collapsed_sections": [],
      "authorship_tag": "ABX9TyM1e5iBBItpdKg+jTDGIodw",
      "include_colab_link": true
    },
    "kernelspec": {
      "name": "python3",
      "display_name": "Python 3"
    },
    "language_info": {
      "name": "python"
    }
  },
  "cells": [
    {
      "cell_type": "markdown",
      "metadata": {
        "id": "view-in-github",
        "colab_type": "text"
      },
      "source": [
        "<a href=\"https://colab.research.google.com/github/tyler04/Python-Materials/blob/main/OOP_Python.ipynb\" target=\"_parent\"><img src=\"https://colab.research.google.com/assets/colab-badge.svg\" alt=\"Open In Colab\"/></a>"
      ]
    },
    {
      "cell_type": "markdown",
      "source": [
        "### OOP: Codewithharry\n"
      ],
      "metadata": {
        "id": "G2g1KULNgciL"
      }
    },
    {
      "cell_type": "markdown",
      "source": [
        "Class is a template, or can be considered as a blueprint."
      ],
      "metadata": {
        "id": "0-8H7k4TjkzJ"
      }
    },
    {
      "cell_type": "code",
      "execution_count": 1,
      "metadata": {
        "id": "0SulSzAqgQE4"
      },
      "outputs": [],
      "source": [
        "class Employee:\n",
        "  pass"
      ]
    },
    {
      "cell_type": "code",
      "source": [
        "harry= Employee()\n",
        "rohan= Employee()"
      ],
      "metadata": {
        "id": "bwyFxRy7j3tg"
      },
      "execution_count": 2,
      "outputs": []
    },
    {
      "cell_type": "code",
      "source": [
        "harry.fname=\"harry\"\n",
        "harry.lname=\"jackson\"\n",
        "harry.salary= 44000\n",
        "\n",
        "rohan.fname=\"rohan\"\n",
        "rohan.lname=\"das\"\n",
        "rohan.salary= 44000\n"
      ],
      "metadata": {
        "id": "ySc-ixNBj-fW"
      },
      "execution_count": 3,
      "outputs": []
    },
    {
      "cell_type": "code",
      "source": [
        "print(harry.fname, rohan.fname)"
      ],
      "metadata": {
        "colab": {
          "base_uri": "https://localhost:8080/"
        },
        "id": "r5kyjyeFkbOW",
        "outputId": "ca05eeba-0ce4-4b8f-921f-17bcea5e1372"
      },
      "execution_count": 4,
      "outputs": [
        {
          "output_type": "stream",
          "name": "stdout",
          "text": [
            "harry rohan\n"
          ]
        }
      ]
    },
    {
      "cell_type": "code",
      "source": [
        "print(harry, rohan)"
      ],
      "metadata": {
        "colab": {
          "base_uri": "https://localhost:8080/"
        },
        "id": "GdWtvpAxkfIR",
        "outputId": "9e22e17e-0791-4156-e9cd-54e58452ae52"
      },
      "execution_count": 5,
      "outputs": [
        {
          "output_type": "stream",
          "name": "stdout",
          "text": [
            "<__main__.Employee object at 0x7f5a684d04d0> <__main__.Employee object at 0x7f5a565d7710>\n"
          ]
        }
      ]
    },
    {
      "cell_type": "markdown",
      "source": [
        "The code reusability is low in this format, we can improve this by using different methods. Further, it is shown that harry and rohan are two class objects with different addresses. Both are object of same class but not the same thing."
      ],
      "metadata": {
        "id": "Iq5d7erokrLD"
      }
    },
    {
      "cell_type": "code",
      "source": [
        "class Employee:\n",
        "  #constructor\n",
        "  def __init__(self, fname, lname, salary):\n",
        "    self.fname=fname\n",
        "    self.lname=lname\n",
        "    self.salary= salary\n",
        "    "
      ],
      "metadata": {
        "id": "_vvxSatBkp0M"
      },
      "execution_count": 6,
      "outputs": []
    },
    {
      "cell_type": "code",
      "source": [
        "harry= Employee('harry', 'jackson', 44000)\n",
        "rohan= Employee('rohan', 'das', 44000)"
      ],
      "metadata": {
        "id": "taHZVdSblioc"
      },
      "execution_count": 7,
      "outputs": []
    },
    {
      "cell_type": "code",
      "source": [
        "print(harry.fname)"
      ],
      "metadata": {
        "colab": {
          "base_uri": "https://localhost:8080/"
        },
        "id": "QwTc3ZuGlyFn",
        "outputId": "401eac7f-87c0-4f99-c57a-7d64c93497c4"
      },
      "execution_count": 8,
      "outputs": [
        {
          "output_type": "stream",
          "name": "stdout",
          "text": [
            "harry\n"
          ]
        }
      ]
    },
    {
      "cell_type": "code",
      "source": [
        "print(harry.salary)"
      ],
      "metadata": {
        "colab": {
          "base_uri": "https://localhost:8080/"
        },
        "id": "E2VYRL_gl0fs",
        "outputId": "69dfc27c-1d7b-403a-d666-88a06cdd07d9"
      },
      "execution_count": 9,
      "outputs": [
        {
          "output_type": "stream",
          "name": "stdout",
          "text": [
            "44000\n"
          ]
        }
      ]
    },
    {
      "cell_type": "markdown",
      "source": [
        "There are certain variables or attributes which will be common in every employee, like raise, number of employees, these can be treated as a class variable."
      ],
      "metadata": {
        "id": "v3ElIC1hnMAK"
      }
    },
    {
      "cell_type": "code",
      "source": [
        "class Employee:\n",
        "  increment=1.5 #class variable\n",
        "  #constructor\n",
        "  def __init__(self, fname, lname, salary):\n",
        "    self.fname=fname\n",
        "    self.lname=lname\n",
        "    self.salary= salary\n",
        "  def increase(self):\n",
        "    pass"
      ],
      "metadata": {
        "id": "o2tdjsMHl5RJ"
      },
      "execution_count": 12,
      "outputs": []
    },
    {
      "cell_type": "code",
      "source": [
        "harry= Employee('harry', 'jackson', 44000)\n",
        "rohan= Employee('rohan', 'das', 44000)\n",
        "harry.increase() #it may seem there is no arguement but 'self' is passed through"
      ],
      "metadata": {
        "id": "lU03ikWrntKq"
      },
      "execution_count": 16,
      "outputs": []
    },
    {
      "cell_type": "code",
      "source": [
        "class Employee:\n",
        "  increment=1.5 #class variable\n",
        "  #constructor\n",
        "  def __init__(self, fname, lname, salary):\n",
        "    self.fname=fname\n",
        "    self.lname=lname\n",
        "    self.salary= salary\n",
        "  def increase(): #now we are omitting self\n",
        "    pass\n",
        "harry= Employee('harry', 'jackson', 44000)\n",
        "harry.increase()"
      ],
      "metadata": {
        "colab": {
          "base_uri": "https://localhost:8080/",
          "height": 200
        },
        "id": "MmHZoX9Rnv9Z",
        "outputId": "bd5e2be5-36ed-411d-b86f-8305ed6c9f36"
      },
      "execution_count": 17,
      "outputs": [
        {
          "output_type": "error",
          "ename": "TypeError",
          "evalue": "ignored",
          "traceback": [
            "\u001b[0;31m---------------------------------------------------------------------------\u001b[0m",
            "\u001b[0;31mTypeError\u001b[0m                                 Traceback (most recent call last)",
            "\u001b[0;32m<ipython-input-17-4acbf1d708e0>\u001b[0m in \u001b[0;36m<module>\u001b[0;34m()\u001b[0m\n\u001b[1;32m      9\u001b[0m     \u001b[0;32mpass\u001b[0m\u001b[0;34m\u001b[0m\u001b[0;34m\u001b[0m\u001b[0m\n\u001b[1;32m     10\u001b[0m \u001b[0mharry\u001b[0m\u001b[0;34m=\u001b[0m \u001b[0mEmployee\u001b[0m\u001b[0;34m(\u001b[0m\u001b[0;34m'harry'\u001b[0m\u001b[0;34m,\u001b[0m \u001b[0;34m'jackson'\u001b[0m\u001b[0;34m,\u001b[0m \u001b[0;36m44000\u001b[0m\u001b[0;34m)\u001b[0m\u001b[0;34m\u001b[0m\u001b[0;34m\u001b[0m\u001b[0m\n\u001b[0;32m---> 11\u001b[0;31m \u001b[0mharry\u001b[0m\u001b[0;34m.\u001b[0m\u001b[0mincrease\u001b[0m\u001b[0;34m(\u001b[0m\u001b[0;34m)\u001b[0m\u001b[0;34m\u001b[0m\u001b[0;34m\u001b[0m\u001b[0m\n\u001b[0m",
            "\u001b[0;31mTypeError\u001b[0m: increase() takes 0 positional arguments but 1 was given"
          ]
        }
      ]
    },
    {
      "cell_type": "markdown",
      "source": [
        "There are two ways to access the variables in a class\n",
        "\n",
        "\n",
        "1.   By accessing the instance of a class \n",
        "2.   By accessing the instance of the class\n",
        "\n",
        "\n",
        "\n"
      ],
      "metadata": {
        "id": "f5lq9rkNosYc"
      }
    },
    {
      "cell_type": "code",
      "source": [
        "class Employee:\n",
        "  increment=1.5 #class variable\n",
        "  #constructor\n",
        "  def __init__(self, fname, lname, salary):\n",
        "    self.fname=fname\n",
        "    self.lname=lname\n",
        "    self.salary= int(salary)\n",
        "  def increase(self):\n",
        "    #self.salary=self.salary * self.increment \n",
        "    self.salary=int(self.salary * Employee.increment)"
      ],
      "metadata": {
        "id": "eMXFDf_Bof_d"
      },
      "execution_count": 21,
      "outputs": []
    },
    {
      "cell_type": "markdown",
      "source": [
        "The difference between the two is that, in self.increment it will first search inside the __init__ method for the variable increment, if not found will move to the class Employee.\n",
        "\n",
        "In Employee.increment, it will directly search inside the class for increment."
      ],
      "metadata": {
        "id": "b7qnBtkXpUaA"
      }
    },
    {
      "cell_type": "code",
      "source": [
        "harry= Employee('harry', 'jackson', 44000)\n",
        "print(harry.salary)\n",
        "harry.increase()\n",
        "print(harry.salary)\n"
      ],
      "metadata": {
        "colab": {
          "base_uri": "https://localhost:8080/"
        },
        "id": "SWKgCKlnpPQn",
        "outputId": "bba71f1b-0723-472c-bc0f-a50143c53993"
      },
      "execution_count": 22,
      "outputs": [
        {
          "output_type": "stream",
          "name": "stdout",
          "text": [
            "44000\n",
            "66000\n"
          ]
        }
      ]
    },
    {
      "cell_type": "code",
      "source": [
        "class Employee:\n",
        "  increment=1.5 #class variable\n",
        "  #constructor\n",
        "  def __init__(self, fname, lname, salary):\n",
        "    self.fname=fname\n",
        "    self.lname=lname\n",
        "    self.salary= int(salary)\n",
        "    self.increment= 2\n",
        "  def increase(self):\n",
        "    self.salary=self.salary * self.increment \n",
        "    #self.salary=int(self.salary * Employee.increment)"
      ],
      "metadata": {
        "id": "tJkBoKBwqCa5"
      },
      "execution_count": 23,
      "outputs": []
    },
    {
      "cell_type": "code",
      "source": [
        "harry= Employee('harry', 'jackson', 44000)\n",
        "print(harry.salary)\n",
        "harry.increase()\n",
        "print(harry.salary)\n"
      ],
      "metadata": {
        "colab": {
          "base_uri": "https://localhost:8080/"
        },
        "id": "ujbdkohfqUMp",
        "outputId": "0829ee8e-40d2-4a41-b6f4-2a69c96e7a46"
      },
      "execution_count": 24,
      "outputs": [
        {
          "output_type": "stream",
          "name": "stdout",
          "text": [
            "44000\n",
            "88000\n"
          ]
        }
      ]
    },
    {
      "cell_type": "code",
      "source": [
        "class Employee:\n",
        "  #class variable\n",
        "  increment=1.5 \n",
        "  no_of_employee= 0\n",
        "  #constructor\n",
        "  def __init__(self, fname, lname, salary):\n",
        "    self.fname=fname\n",
        "    self.lname=lname\n",
        "    self.salary= int(salary)\n",
        "    self.increment= 2\n",
        "    Employee.no_of_employee += 1 \n",
        "  def increase(self):\n",
        "    self.salary=self.salary * self.increment \n",
        "    #self.salary=int(self.salary * Employee.increment)"
      ],
      "metadata": {
        "id": "oQ_WJ4laqWbm"
      },
      "execution_count": 26,
      "outputs": []
    },
    {
      "cell_type": "code",
      "source": [
        "print(Employee.no_of_employee)\n",
        "harry= Employee('harry', 'jackson', 44000)\n",
        "rohan= Employee('rohan', 'das', 44000)\n",
        "print(Employee.no_of_employee)"
      ],
      "metadata": {
        "colab": {
          "base_uri": "https://localhost:8080/"
        },
        "id": "7kWXX4mcvOHj",
        "outputId": "132884bd-5d5d-453f-e9f5-37ab0d0d13e6"
      },
      "execution_count": 27,
      "outputs": [
        {
          "output_type": "stream",
          "name": "stdout",
          "text": [
            "0\n",
            "2\n"
          ]
        }
      ]
    },
    {
      "cell_type": "markdown",
      "source": [
        "**Classmethods**\n",
        "\n",
        "Sometimes we don't want to pass the self aruguement unnecessarily, like when we want to change one variable of a class. So we can use classmethod, which takes class as an arguement.\n",
        "\n",
        "To use classmethod, we have to first use a decorator. @classmethod\n",
        "\n",
        "\n",
        "---\n",
        "\n",
        "\n",
        "\n",
        "The @classmethod decorator is a built-in function decorator that is an expression that gets evaluated after your function is defined. The result of that evaluation shadows your function definition. \n",
        "A class method receives the class as an implicit first argument, just like an instance method receives the instance.\n",
        "\n",
        "\n",
        "\n",
        "*   A class method is a method that is bound to the class and not the object of the class.\n",
        "* They have the access to the state of the class as it takes a class parameter that points to the class and not the object instance.\n",
        "* It can modify a class state that would apply across all the instances of the class. For example, it can modify a class variable that will be applicable to all the instances.\n",
        "\n"
      ],
      "metadata": {
        "id": "pJfTLJvQ5fSQ"
      }
    },
    {
      "cell_type": "code",
      "source": [
        "class Employee:\n",
        "  #class variable\n",
        "  increment=1.5 \n",
        "  no_of_employee= 0\n",
        "  #constructor\n",
        "  def __init__(self, fname, lname, salary):\n",
        "    self.fname=fname\n",
        "    self.lname=lname\n",
        "    self.salary= int(salary)\n",
        "    self.increment= 2\n",
        "    Employee.no_of_employee += 1 \n",
        "  def increase(self):\n",
        "    #self.salary=self.salary * self.increment \n",
        "    self.salary=int(self.salary * Employee.increment)\n",
        "\n",
        "  @classmethod\n",
        "  def change_increment(cls, amount):\n",
        "    cls.increment=amount\n"
      ],
      "metadata": {
        "id": "kgVc7Q2gvgg6"
      },
      "execution_count": 28,
      "outputs": []
    },
    {
      "cell_type": "code",
      "source": [
        "harry= Employee('harry', 'jackson', 44000)\n",
        "print(harry.salary)\n",
        "Employee.change_increment(3)\n",
        "harry.increase()\n",
        "print(harry.salary)"
      ],
      "metadata": {
        "colab": {
          "base_uri": "https://localhost:8080/"
        },
        "id": "CFFvstbF6Whs",
        "outputId": "6a203513-5d15-40c8-a55d-8f0cbccc9411"
      },
      "execution_count": 30,
      "outputs": [
        {
          "output_type": "stream",
          "name": "stdout",
          "text": [
            "44000\n",
            "132000\n"
          ]
        }
      ]
    },
    {
      "cell_type": "markdown",
      "source": [
        "Class method can also be used as alternative constructors."
      ],
      "metadata": {
        "id": "QahA2Nej7Dpy"
      }
    },
    {
      "cell_type": "code",
      "source": [
        "class Employee:\n",
        "  #class variable\n",
        "  increment=1.5 \n",
        "  no_of_employee= 0\n",
        "  #constructor\n",
        "  def __init__(self, fname, lname, salary):\n",
        "    self.fname=fname\n",
        "    self.lname=lname\n",
        "    self.salary= int(salary)\n",
        "    self.increment= 2\n",
        "    Employee.no_of_employee += 1 \n",
        "  def increase(self):\n",
        "    #self.salary=self.salary * self.increment \n",
        "    self.salary=int(self.salary * Employee.increment)\n",
        "\n",
        "  @classmethod\n",
        "  def change_increment(cls, amount):\n",
        "    cls.increment=amount\n",
        "  @classmethod\n",
        "  def from_str(cls, emp_string):\n",
        "    fname, lname, salary = emp_string.split(\"-\")\n",
        "    return cls(fname, lname, salary)\n"
      ],
      "metadata": {
        "id": "PgOvS4k86bew"
      },
      "execution_count": 32,
      "outputs": []
    },
    {
      "cell_type": "code",
      "source": [
        "harry= Employee('harry', 'jackson', 44000)\n",
        "lovish = Employee.from_str(\"lovish-sharma-9000\")"
      ],
      "metadata": {
        "id": "HyElLrOE7p9I"
      },
      "execution_count": 34,
      "outputs": []
    },
    {
      "cell_type": "code",
      "source": [
        "print(lovish.fname)"
      ],
      "metadata": {
        "colab": {
          "base_uri": "https://localhost:8080/"
        },
        "id": "v-YM9LyS79UF",
        "outputId": "fb2cc98f-b2fb-4bc8-f737-81e86e6d2e44"
      },
      "execution_count": 35,
      "outputs": [
        {
          "output_type": "stream",
          "name": "stdout",
          "text": [
            "lovish\n"
          ]
        }
      ]
    },
    {
      "cell_type": "markdown",
      "source": [
        "**Static Method**\n",
        "\n",
        "When we don't need to pass class or instance as an arguement then we use static function. It is similar to functions in python.\n",
        "\n",
        "Decorator used: @staticmethod\n",
        "\n",
        "\n",
        "\n",
        "---\n",
        "\n",
        "\n",
        "A static method does not receive an implicit first argument. \n",
        "* A static method is also a method that is bound to the class and not the object of the class.\n",
        "* A static method can’t access or modify the class state.\n",
        "* It is present in a class because it makes sense for the method to be present in class."
      ],
      "metadata": {
        "id": "6nBT92gT88zp"
      }
    },
    {
      "cell_type": "code",
      "source": [
        "class Employee:\n",
        "  #class variable\n",
        "  increment=1.5 \n",
        "  no_of_employee= 0\n",
        "  #constructor\n",
        "  def __init__(self, fname, lname, salary):\n",
        "    self.fname=fname\n",
        "    self.lname=lname\n",
        "    self.salary= int(salary)\n",
        "    self.increment= 2\n",
        "    Employee.no_of_employee += 1 \n",
        "  def increase(self):\n",
        "    #self.salary=self.salary * self.increment \n",
        "    self.salary=int(self.salary * Employee.increment)\n",
        "\n",
        "  @classmethod\n",
        "  def change_increment(cls, amount):\n",
        "    cls.increment=amount\n",
        "  @classmethod\n",
        "  def from_str(cls, emp_string):\n",
        "    fname, lname, salary = emp_string.split(\"-\")\n",
        "    return cls(fname, lname, salary)\n",
        "  @staticmethod\n",
        "  def isopen(day):\n",
        "    if day == 'sunday':\n",
        "      return False\n",
        "    else:\n",
        "      return True\n"
      ],
      "metadata": {
        "id": "lxoBtrpD8Gvd"
      },
      "execution_count": 36,
      "outputs": []
    },
    {
      "cell_type": "code",
      "source": [
        "print(Employee.isopen('monday')) # creating objects is not necessary to access isopen because it is a static function"
      ],
      "metadata": {
        "colab": {
          "base_uri": "https://localhost:8080/"
        },
        "id": "GsTXj9MG-Plf",
        "outputId": "ecd19cf0-f29c-4cac-b80b-f956b0381a4f"
      },
      "execution_count": 40,
      "outputs": [
        {
          "output_type": "stream",
          "name": "stdout",
          "text": [
            "True\n"
          ]
        }
      ]
    },
    {
      "cell_type": "code",
      "source": [
        "harry= Employee('harry', 'jackson', 44000)\n",
        "print(harry.isopen('sunday'))"
      ],
      "metadata": {
        "colab": {
          "base_uri": "https://localhost:8080/"
        },
        "id": "bQjcKJuU-Y9S",
        "outputId": "8119b2d2-7570-4105-d95c-95df9525d031"
      },
      "execution_count": 41,
      "outputs": [
        {
          "output_type": "stream",
          "name": "stdout",
          "text": [
            "False\n"
          ]
        }
      ]
    },
    {
      "cell_type": "markdown",
      "source": [
        "* A class method takes cls as the first parameter while a static method needs no specific parameters.\n",
        "* A class method can access or modify the class state while a static method can’t access or modify it.\n",
        "* In general, static methods know nothing about the class state. They are utility-type methods that take some parameters and work upon those parameters. On the other hand class methods must have class as a parameter.\n",
        "* We use @classmethod decorator in python to create a class method and we use @staticmethod decorator to create a static method in python."
      ],
      "metadata": {
        "id": "9HNNI5-n_UMe"
      }
    },
    {
      "cell_type": "markdown",
      "source": [
        "\n",
        "\n",
        "---\n",
        "\n"
      ],
      "metadata": {
        "id": "vl0YkXwBQGIF"
      }
    },
    {
      "cell_type": "markdown",
      "source": [
        "**Inheritence**\n",
        "\n",
        "Inheritance allows us to define a class that inherits all the methods and properties from another class.\n",
        "\n",
        "Parent class (Super) is the class being inherited from, also called base class.\n",
        "\n",
        "Child class (Sub) is the class that inherits from another class, also called derived class.\n",
        "\n",
        "\n",
        "* It represents real-world relationships well.\n",
        "* It provides reusability of a code. We don’t have to write the same code again and again. Also, it allows us to add more features to a class without modifying it.\n",
        "* It is transitive in nature, which means that if class B inherits from another class A, then all the subclasses of B would automatically inherit from class A.\n",
        "\n",
        "\n"
      ],
      "metadata": {
        "id": "OtPFkWEu_PtE"
      }
    },
    {
      "cell_type": "code",
      "source": [
        "class Employee:\n",
        "  #class variable\n",
        "  increment=1.5 \n",
        "  no_of_employee= 0\n",
        "  #constructor\n",
        "  def __init__(self, fname, lname, salary):\n",
        "    self.fname=fname\n",
        "    self.lname=lname\n",
        "    self.salary= int(salary)\n",
        "    self.increment= 2\n",
        "    Employee.no_of_employee += 1 \n",
        "  def increase(self):\n",
        "    #self.salary=self.salary * self.increment \n",
        "    self.salary=int(self.salary * Employee.increment)\n",
        "\n",
        "  @classmethod\n",
        "  def change_increment(cls, amount):\n",
        "    cls.increment=amount\n",
        "  @classmethod\n",
        "  def from_str(cls, emp_string):\n",
        "    fname, lname, salary = emp_string.split(\"-\")\n",
        "    return cls(fname, lname, salary)\n",
        "  @staticmethod\n",
        "  def isopen(day):\n",
        "    if day == 'sunday':\n",
        "      return False\n",
        "    else:\n",
        "      return True\n"
      ],
      "metadata": {
        "id": "nIgonchX-kLI"
      },
      "execution_count": 42,
      "outputs": []
    },
    {
      "cell_type": "code",
      "source": [
        "class Programmer(Employee):\n",
        "  pass"
      ],
      "metadata": {
        "id": "ZwQdHP4CDNPU"
      },
      "execution_count": 43,
      "outputs": []
    },
    {
      "cell_type": "code",
      "source": [
        "harry= Programmer('harry', 'jackson', 44000) #we can access variables of employee using Programmer\n",
        "print(harry.fname)"
      ],
      "metadata": {
        "colab": {
          "base_uri": "https://localhost:8080/"
        },
        "id": "a9-IuE7CDR9u",
        "outputId": "7759d208-9c11-409b-ee3f-638bc85c5a3d"
      },
      "execution_count": 46,
      "outputs": [
        {
          "output_type": "stream",
          "name": "stdout",
          "text": [
            "harry\n"
          ]
        }
      ]
    },
    {
      "cell_type": "code",
      "source": [
        "class Employee:\n",
        "  #class variable\n",
        "  increment=1.5 \n",
        "  no_of_employee= 0\n",
        "  #constructor\n",
        "  def __init__(self, fname, lname, salary):\n",
        "    self.fname=fname\n",
        "    self.lname=lname\n",
        "    self.salary= int(salary)\n",
        "    self.increment= 2\n",
        "    Employee.no_of_employee += 1 \n",
        "  def increase(self):\n",
        "    #self.salary=self.salary * self.increment \n",
        "    self.salary=int(self.salary * Employee.increment)\n",
        "\n",
        "  @classmethod\n",
        "  def change_increment(cls, amount):\n",
        "    cls.increment=amount\n",
        "  @classmethod\n",
        "  def from_str(cls, emp_string):\n",
        "    fname, lname, salary = emp_string.split(\"-\")\n",
        "    return cls(fname, lname, salary)\n",
        "  @staticmethod\n",
        "  def isopen(day):\n",
        "    if day == 'sunday':\n",
        "      return False\n",
        "    else:\n",
        "      return True\n",
        "\n",
        "\n",
        "class Programmer(Employee):\n",
        "  def __init__(self, fname, lname, salary, proglang, exp):\n",
        "    super().__init__(fname, lname, salary) #calls the __init__ of the super class\n",
        "    self.proglang= proglang\n",
        "    self.exp = exp\n",
        "  def increase(self):\n",
        "    self.salary=int(self.salary * (self.increment+0.2) )\n",
        "    \n"
      ],
      "metadata": {
        "id": "zCXSPVMmEKQ5"
      },
      "execution_count": 50,
      "outputs": []
    },
    {
      "cell_type": "code",
      "source": [
        "harry= Programmer('harry', 'jackson', 44000, 'Python', '5 Years')\n",
        "print(harry.exp)"
      ],
      "metadata": {
        "colab": {
          "base_uri": "https://localhost:8080/"
        },
        "id": "DHGNVvMFOxF3",
        "outputId": "e106a431-fb08-470c-b22a-65ae289edcc0"
      },
      "execution_count": 51,
      "outputs": [
        {
          "output_type": "stream",
          "name": "stdout",
          "text": [
            "5 Years\n"
          ]
        }
      ]
    },
    {
      "cell_type": "code",
      "source": [
        "print(help(Programmer)) # focus on Method resolution order"
      ],
      "metadata": {
        "colab": {
          "base_uri": "https://localhost:8080/"
        },
        "id": "PAkYgUUvO6nn",
        "outputId": "ed9be252-a957-4c20-f9f9-9016337e8859"
      },
      "execution_count": 53,
      "outputs": [
        {
          "output_type": "stream",
          "name": "stdout",
          "text": [
            "Help on class Programmer in module __main__:\n",
            "\n",
            "class Programmer(Employee)\n",
            " |  Programmer(fname, lname, salary, proglang, exp)\n",
            " |  \n",
            " |  Method resolution order:\n",
            " |      Programmer\n",
            " |      Employee\n",
            " |      builtins.object\n",
            " |  \n",
            " |  Methods defined here:\n",
            " |  \n",
            " |  __init__(self, fname, lname, salary, proglang, exp)\n",
            " |      Initialize self.  See help(type(self)) for accurate signature.\n",
            " |  \n",
            " |  increase(self)\n",
            " |  \n",
            " |  ----------------------------------------------------------------------\n",
            " |  Class methods inherited from Employee:\n",
            " |  \n",
            " |  change_increment(amount) from builtins.type\n",
            " |  \n",
            " |  from_str(emp_string) from builtins.type\n",
            " |  \n",
            " |  ----------------------------------------------------------------------\n",
            " |  Static methods inherited from Employee:\n",
            " |  \n",
            " |  isopen(day)\n",
            " |  \n",
            " |  ----------------------------------------------------------------------\n",
            " |  Data descriptors inherited from Employee:\n",
            " |  \n",
            " |  __dict__\n",
            " |      dictionary for instance variables (if defined)\n",
            " |  \n",
            " |  __weakref__\n",
            " |      list of weak references to the object (if defined)\n",
            " |  \n",
            " |  ----------------------------------------------------------------------\n",
            " |  Data and other attributes inherited from Employee:\n",
            " |  \n",
            " |  increment = 1.5\n",
            " |  \n",
            " |  no_of_employee = 1\n",
            "\n",
            "None\n"
          ]
        }
      ]
    },
    {
      "cell_type": "markdown",
      "source": [
        "**Magic/Dunder Methods**\n",
        "\n",
        "Magic methods in Python are the special methods that start and end with the double underscores. They are also called dunder methods. Magic methods are not meant to be invoked directly by you, but the invocation happens internally from the class on a certain action. For example, when you add two numbers using the + operator, internally, the __add__() method will be called.\n",
        "\n",
        "Built-in classes in Python define many magic methods. Use the dir() function to see the number of magic methods inherited by a class.\n",
        "\n",
        "For example, the __add__ method is a magic method which gets called when we add two numbers using the + operator.\n",
        "\n",
        "Magic methods are most frequently used to define overloaded behaviours of predefined operators in Python. For instance, arithmetic operators by default operate upon numeric operands. This means that numeric objects must be used along with operators like +, -, *, /, etc. The + operator is also defined as a concatenation operator in string, list and tuple classes. We can say that the + operator is overloaded.\n",
        "\n",
        "In order to make the overloaded behaviour available in your own custom class, the corresponding magic method should be overridden. For example, in order to use the + operator with objects of a user-defined class, it should include the __add__() method."
      ],
      "metadata": {
        "id": "JF5jctEsQYST"
      }
    },
    {
      "cell_type": "code",
      "source": [
        "class Employee:\n",
        "  #class variable\n",
        "  increment=1.5 \n",
        "  no_of_employee= 0\n",
        "  #constructor\n",
        "  def __init__(self, fname, lname, salary):\n",
        "    self.fname=fname\n",
        "    self.lname=lname\n",
        "    self.salary= int(salary)\n",
        "    self.increment= 2\n",
        "    Employee.no_of_employee += 1 \n",
        "  def increase(self):\n",
        "    #self.salary=self.salary * self.increment \n",
        "    self.salary=int(self.salary * Employee.increment)\n",
        "\n",
        "  @classmethod\n",
        "  def change_increment(cls, amount):\n",
        "    cls.increment=amount\n",
        "  @classmethod\n",
        "  def from_str(cls, emp_string):\n",
        "    fname, lname, salary = emp_string.split(\"-\")\n",
        "    return cls(fname, lname, salary)\n",
        "  @staticmethod\n",
        "  def isopen(day):\n",
        "    if day == 'sunday':\n",
        "      return False\n",
        "    else:\n",
        "      return True\n"
      ],
      "metadata": {
        "id": "eUgU0ITCPb5M"
      },
      "execution_count": 54,
      "outputs": []
    },
    {
      "cell_type": "code",
      "source": [
        "harry= Employee('harry', 'jackson', 44000)\n",
        "rohan= Employee('rohan', 'maitra', 55000)\n"
      ],
      "metadata": {
        "id": "uzvj_bo-Qnpc"
      },
      "execution_count": 55,
      "outputs": []
    },
    {
      "cell_type": "code",
      "source": [
        "print(4+8)"
      ],
      "metadata": {
        "colab": {
          "base_uri": "https://localhost:8080/"
        },
        "id": "TlyKuV9yQ8d5",
        "outputId": "415c8194-5245-4dd9-f081-662036256ccc"
      },
      "execution_count": 56,
      "outputs": [
        {
          "output_type": "stream",
          "name": "stdout",
          "text": [
            "12\n"
          ]
        }
      ]
    },
    {
      "cell_type": "code",
      "source": [
        "print('90'+'kl')"
      ],
      "metadata": {
        "colab": {
          "base_uri": "https://localhost:8080/"
        },
        "id": "mqdjPT55RFsN",
        "outputId": "034152a4-88f7-4df7-b139-a6a05a4b093f"
      },
      "execution_count": 57,
      "outputs": [
        {
          "output_type": "stream",
          "name": "stdout",
          "text": [
            "90kl\n"
          ]
        }
      ]
    },
    {
      "cell_type": "code",
      "source": [
        "print('90'+'90')"
      ],
      "metadata": {
        "colab": {
          "base_uri": "https://localhost:8080/"
        },
        "id": "y0W4AlvvRLaM",
        "outputId": "c8e0a447-45f4-4a8c-9aee-bf128acc6cd0"
      },
      "execution_count": 58,
      "outputs": [
        {
          "output_type": "stream",
          "name": "stdout",
          "text": [
            "9090\n"
          ]
        }
      ]
    },
    {
      "cell_type": "code",
      "source": [
        "a=9\n",
        "print(a.__add__(8))  #dunder method"
      ],
      "metadata": {
        "colab": {
          "base_uri": "https://localhost:8080/"
        },
        "id": "_JeDjFy8RPwL",
        "outputId": "d61a3a89-2ff9-4984-b6fd-e55e7a79c9c4"
      },
      "execution_count": 60,
      "outputs": [
        {
          "output_type": "stream",
          "name": "stdout",
          "text": [
            "17\n"
          ]
        }
      ]
    },
    {
      "cell_type": "code",
      "source": [
        "a=9\n",
        "print(a.__mul__(8))  #dunder method"
      ],
      "metadata": {
        "colab": {
          "base_uri": "https://localhost:8080/"
        },
        "id": "rLcs-w7eRaBf",
        "outputId": "edeccb82-8268-46ed-94a2-092404129253"
      },
      "execution_count": 61,
      "outputs": [
        {
          "output_type": "stream",
          "name": "stdout",
          "text": [
            "72\n"
          ]
        }
      ]
    },
    {
      "cell_type": "code",
      "source": [
        "print(harry+rohan)"
      ],
      "metadata": {
        "colab": {
          "base_uri": "https://localhost:8080/",
          "height": 165
        },
        "id": "x2dLSdn3Ro4M",
        "outputId": "ce62d307-7b28-4f26-a83b-3e0813d7249a"
      },
      "execution_count": 62,
      "outputs": [
        {
          "output_type": "error",
          "ename": "TypeError",
          "evalue": "ignored",
          "traceback": [
            "\u001b[0;31m---------------------------------------------------------------------------\u001b[0m",
            "\u001b[0;31mTypeError\u001b[0m                                 Traceback (most recent call last)",
            "\u001b[0;32m<ipython-input-62-4f7d95aeaee3>\u001b[0m in \u001b[0;36m<module>\u001b[0;34m()\u001b[0m\n\u001b[0;32m----> 1\u001b[0;31m \u001b[0mprint\u001b[0m\u001b[0;34m(\u001b[0m\u001b[0mharry\u001b[0m\u001b[0;34m+\u001b[0m\u001b[0mrohan\u001b[0m\u001b[0;34m)\u001b[0m\u001b[0;34m\u001b[0m\u001b[0;34m\u001b[0m\u001b[0m\n\u001b[0m",
            "\u001b[0;31mTypeError\u001b[0m: unsupported operand type(s) for +: 'Employee' and 'Employee'"
          ]
        }
      ]
    },
    {
      "cell_type": "code",
      "source": [
        "class Employee:\n",
        "  #class variable\n",
        "  increment=1.5 \n",
        "  no_of_employee= 0\n",
        "  #constructor\n",
        "  def __init__(self, fname, lname, salary):\n",
        "    self.fname=fname\n",
        "    self.lname=lname\n",
        "    self.salary= int(salary)\n",
        "    self.increment= 2\n",
        "    Employee.no_of_employee += 1 \n",
        "  def increase(self):\n",
        "    #self.salary=self.salary * self.increment \n",
        "    self.salary=int(self.salary * Employee.increment)\n",
        "\n",
        "  @classmethod\n",
        "  def change_increment(cls, amount):\n",
        "    cls.increment=amount\n",
        "  @classmethod\n",
        "  def from_str(cls, emp_string):\n",
        "    fname, lname, salary = emp_string.split(\"-\")\n",
        "    return cls(fname, lname, salary)\n",
        "  @staticmethod\n",
        "  def isopen(day):\n",
        "    if day == 'sunday':\n",
        "      return False\n",
        "    else:\n",
        "      return True\n",
        "  \n",
        "  def __add__(self, other):\n",
        "    return self.salary+other.salary"
      ],
      "metadata": {
        "id": "0GKL3M4pRtPX"
      },
      "execution_count": 65,
      "outputs": []
    },
    {
      "cell_type": "code",
      "source": [
        "harry= Employee('harry', 'jackson', 44000)\n",
        "rohan= Employee('rohan', 'maitra', 55000)\n",
        "print(harry+rohan)"
      ],
      "metadata": {
        "colab": {
          "base_uri": "https://localhost:8080/"
        },
        "id": "Tv7LV3fBR74x",
        "outputId": "d4d5e756-7603-4b2e-cd77-a0aeff4bcf11"
      },
      "execution_count": 67,
      "outputs": [
        {
          "output_type": "stream",
          "name": "stdout",
          "text": [
            "99000\n"
          ]
        }
      ]
    },
    {
      "cell_type": "code",
      "source": [
        "print(harry)"
      ],
      "metadata": {
        "colab": {
          "base_uri": "https://localhost:8080/"
        },
        "id": "t1atXJVdR_QZ",
        "outputId": "04863d63-5ebe-479f-8cf8-eb1760a96ca3"
      },
      "execution_count": 68,
      "outputs": [
        {
          "output_type": "stream",
          "name": "stdout",
          "text": [
            "<__main__.Employee object at 0x7f5a56503250>\n"
          ]
        }
      ]
    },
    {
      "cell_type": "markdown",
      "source": [
        "We can see that while printing harry we are getting the object location, but may be we want some specific thing when we print harry like salary of harry.\n",
        "\n",
        "We can solve the problem using two dunder methods, repr and str"
      ],
      "metadata": {
        "id": "-K1XmHdsSLDs"
      }
    },
    {
      "cell_type": "code",
      "source": [
        "class Employee:\n",
        "  #class variable\n",
        "  increment=1.5 \n",
        "  no_of_employee= 0\n",
        "  #constructor\n",
        "  def __init__(self, fname, lname, salary):\n",
        "    self.fname=fname\n",
        "    self.lname=lname\n",
        "    self.salary= int(salary)\n",
        "    self.increment= 2\n",
        "    Employee.no_of_employee += 1 \n",
        "  def increase(self):\n",
        "    #self.salary=self.salary * self.increment \n",
        "    self.salary=int(self.salary * Employee.increment)\n",
        "\n",
        "  @classmethod\n",
        "  def change_increment(cls, amount):\n",
        "    cls.increment=amount\n",
        "  @classmethod\n",
        "  def from_str(cls, emp_string):\n",
        "    fname, lname, salary = emp_string.split(\"-\")\n",
        "    return cls(fname, lname, salary)\n",
        "  @staticmethod\n",
        "  def isopen(day):\n",
        "    if day == 'sunday':\n",
        "      return False\n",
        "    else:\n",
        "      return True\n",
        "  \n",
        "  def __add__(self, other):\n",
        "    return self.salary+other.salary\n",
        "\n",
        "  def __repr__(self):\n",
        "    return 'Employee: {} {} {}'.format(self.fname, self.lname, self.salary)"
      ],
      "metadata": {
        "id": "uQWxPkKKSJE3"
      },
      "execution_count": 72,
      "outputs": []
    },
    {
      "cell_type": "code",
      "source": [
        "harry= Employee('harry', 'jackson', 44000)\n",
        "print(harry)\n",
        "print(str(harry))"
      ],
      "metadata": {
        "colab": {
          "base_uri": "https://localhost:8080/"
        },
        "id": "SRUd0CUmS3LI",
        "outputId": "68d36876-db33-42a5-ce54-9dbce2518f49"
      },
      "execution_count": 74,
      "outputs": [
        {
          "output_type": "stream",
          "name": "stdout",
          "text": [
            "Employee: harry jackson 44000\n",
            "Employee: harry jackson 44000\n"
          ]
        }
      ]
    },
    {
      "cell_type": "code",
      "source": [
        "class Employee:\n",
        "  #class variable\n",
        "  increment=1.5 \n",
        "  no_of_employee= 0\n",
        "  #constructor\n",
        "  def __init__(self, fname, lname, salary):\n",
        "    self.fname=fname\n",
        "    self.lname=lname\n",
        "    self.salary= int(salary)\n",
        "    self.increment= 2\n",
        "    Employee.no_of_employee += 1 \n",
        "  def increase(self):\n",
        "    #self.salary=self.salary * self.increment \n",
        "    self.salary=int(self.salary * Employee.increment)\n",
        "\n",
        "  @classmethod\n",
        "  def change_increment(cls, amount):\n",
        "    cls.increment=amount\n",
        "  @classmethod\n",
        "  def from_str(cls, emp_string):\n",
        "    fname, lname, salary = emp_string.split(\"-\")\n",
        "    return cls(fname, lname, salary)\n",
        "  @staticmethod\n",
        "  def isopen(day):\n",
        "    if day == 'sunday':\n",
        "      return False\n",
        "    else:\n",
        "      return True\n",
        "  \n",
        "  def __add__(self, other):\n",
        "    return self.salary+other.salary\n",
        "\n",
        "  def __repr__(self):\n",
        "    return 'Employee: {} {} {}'.format(self.fname, self.lname, self.salary)\n",
        "  def __str__(self):\n",
        "    return 'The name of employee: {}'.format(self.fname)"
      ],
      "metadata": {
        "id": "V5udh8JVS61R"
      },
      "execution_count": 77,
      "outputs": []
    },
    {
      "cell_type": "code",
      "source": [
        "harry= Employee('harry', 'jackson', 44000)\n",
        "print(harry)\n",
        "print(str(harry))\n",
        "print(repr(harry))"
      ],
      "metadata": {
        "colab": {
          "base_uri": "https://localhost:8080/"
        },
        "id": "2YgmE6rKTZnd",
        "outputId": "061c6661-1dfc-4127-f20b-a5b6b8693bf0"
      },
      "execution_count": 78,
      "outputs": [
        {
          "output_type": "stream",
          "name": "stdout",
          "text": [
            "The name of employee: harry\n",
            "The name of employee: harry\n",
            "Employee: harry jackson 44000\n"
          ]
        }
      ]
    },
    {
      "cell_type": "markdown",
      "source": [
        "**Property Decorator**\n",
        "\n"
      ],
      "metadata": {
        "id": "02T4FIl3UR-R"
      }
    },
    {
      "cell_type": "code",
      "source": [
        "class Employee:\n",
        "  #class variable\n",
        "  increment=1.5 \n",
        "  no_of_employee= 0\n",
        "  #constructor\n",
        "  def __init__(self, fname, lname, salary):\n",
        "    self.fname=fname\n",
        "    self.lname=lname\n",
        "    self.salary= int(salary)\n",
        "    self.email= fname + lname + '@gmail.com'\n",
        "    self.increment= 2\n",
        "    Employee.no_of_employee += 1 \n",
        "  def increase(self):\n",
        "    #self.salary=self.salary * self.increment \n",
        "    self.salary=int(self.salary * Employee.increment)\n",
        "\n",
        "  @classmethod\n",
        "  def change_increment(cls, amount):\n",
        "    cls.increment=amount\n",
        "  @classmethod\n",
        "  def from_str(cls, emp_string):\n",
        "    fname, lname, salary = emp_string.split(\"-\")\n",
        "    return cls(fname, lname, salary)\n",
        "  @staticmethod\n",
        "  def isopen(day):\n",
        "    if day == 'sunday':\n",
        "      return False\n",
        "    else:\n",
        "      return True\n"
      ],
      "metadata": {
        "id": "f_7-ikN8TjuN"
      },
      "execution_count": 79,
      "outputs": []
    },
    {
      "cell_type": "code",
      "source": [
        "harry= Employee('harry', 'jackson', 44000)\n",
        "rohan= Employee('rohan', 'maitra', 55000)"
      ],
      "metadata": {
        "id": "BL6yGXGeU2Ul"
      },
      "execution_count": 80,
      "outputs": []
    },
    {
      "cell_type": "code",
      "source": [
        "print(harry.email)"
      ],
      "metadata": {
        "colab": {
          "base_uri": "https://localhost:8080/"
        },
        "id": "miagOjP4U2xE",
        "outputId": "e50fe7ab-6751-4cf8-b9d0-3fbb7a821591"
      },
      "execution_count": 81,
      "outputs": [
        {
          "output_type": "stream",
          "name": "stdout",
          "text": [
            "harryjackson@gmail.com\n"
          ]
        }
      ]
    },
    {
      "cell_type": "code",
      "source": [
        "print(rohan.email)"
      ],
      "metadata": {
        "colab": {
          "base_uri": "https://localhost:8080/"
        },
        "id": "L1gJuHr_U8NX",
        "outputId": "f3a38a5a-eb2e-42dc-fa1e-21b1a508bdda"
      },
      "execution_count": 82,
      "outputs": [
        {
          "output_type": "stream",
          "name": "stdout",
          "text": [
            "rohanmaitra@gmail.com\n"
          ]
        }
      ]
    },
    {
      "cell_type": "code",
      "source": [
        "rohan.lname='das'\n",
        "print(rohan.email)"
      ],
      "metadata": {
        "colab": {
          "base_uri": "https://localhost:8080/"
        },
        "id": "dcZfGorLU-hC",
        "outputId": "b619a4be-a9dc-4fdc-9c7b-bb8d173803f7"
      },
      "execution_count": 83,
      "outputs": [
        {
          "output_type": "stream",
          "name": "stdout",
          "text": [
            "rohanmaitra@gmail.com\n"
          ]
        }
      ]
    },
    {
      "cell_type": "code",
      "source": [
        "class Employee:\n",
        "  #class variable\n",
        "  increment=1.5 \n",
        "  no_of_employee= 0\n",
        "  #constructor\n",
        "  def __init__(self, fname, lname, salary):\n",
        "    self.fname=fname\n",
        "    self.lname=lname\n",
        "    self.salary= int(salary)\n",
        "    self.increment= 2\n",
        "    Employee.no_of_employee += 1 \n",
        "  def increase(self):\n",
        "    #self.salary=self.salary * self.increment \n",
        "    self.salary=int(self.salary * Employee.increment)\n",
        "  \n",
        "  def email(self):\n",
        "    return self.fname + self.lname + '@gmail.com'\n",
        "\n",
        "  @classmethod\n",
        "  def change_increment(cls, amount):\n",
        "    cls.increment=amount\n",
        "  @classmethod\n",
        "  def from_str(cls, emp_string):\n",
        "    fname, lname, salary = emp_string.split(\"-\")\n",
        "    return cls(fname, lname, salary)\n",
        "  @staticmethod\n",
        "  def isopen(day):\n",
        "    if day == 'sunday':\n",
        "      return False\n",
        "    else:\n",
        "      return True\n"
      ],
      "metadata": {
        "id": "Zqm3dw6XVOfT"
      },
      "execution_count": 84,
      "outputs": []
    },
    {
      "cell_type": "code",
      "source": [
        "harry= Employee('harry', 'jackson', 44000)\n",
        "rohan= Employee('rohan', 'maitra', 55000)\n",
        "rohan.lname='das'\n",
        "print(rohan.email())"
      ],
      "metadata": {
        "colab": {
          "base_uri": "https://localhost:8080/"
        },
        "id": "6BqE7dKDVnm5",
        "outputId": "a5d0fc87-1e61-441c-e636-f453d54c7f76"
      },
      "execution_count": 86,
      "outputs": [
        {
          "output_type": "stream",
          "name": "stdout",
          "text": [
            "rohandas@gmail.com\n"
          ]
        }
      ]
    },
    {
      "cell_type": "code",
      "source": [
        "rohan.email()='dasrohan@gmail.com'"
      ],
      "metadata": {
        "colab": {
          "base_uri": "https://localhost:8080/",
          "height": 130
        },
        "id": "FYVKbAr9Vt9i",
        "outputId": "e126a399-3c58-47fb-ff7b-571e3589b0e8"
      },
      "execution_count": 87,
      "outputs": [
        {
          "output_type": "error",
          "ename": "SyntaxError",
          "evalue": "ignored",
          "traceback": [
            "\u001b[0;36m  File \u001b[0;32m\"<ipython-input-87-15f63e990499>\"\u001b[0;36m, line \u001b[0;32m1\u001b[0m\n\u001b[0;31m    rohan.email()='dasrohan@gmail.com'\u001b[0m\n\u001b[0m                                      ^\u001b[0m\n\u001b[0;31mSyntaxError\u001b[0m\u001b[0;31m:\u001b[0m can't assign to function call\n"
          ]
        }
      ]
    },
    {
      "cell_type": "code",
      "source": [
        "class Employee:\n",
        "  #class variable\n",
        "  increment=1.5 \n",
        "  no_of_employee= 0\n",
        "  #constructor\n",
        "  def __init__(self, fname, lname, salary):\n",
        "    self.fname=fname\n",
        "    self.lname=lname\n",
        "    self.salary= int(salary)\n",
        "    self.increment= 2\n",
        "    Employee.no_of_employee += 1 \n",
        "  def increase(self):\n",
        "    #self.salary=self.salary * self.increment \n",
        "    self.salary=int(self.salary * Employee.increment)\n",
        "  \n",
        "  @property\n",
        "  def email(self):\n",
        "    return self.fname + self.lname + '@gmail.com'\n",
        "\n",
        "  @classmethod\n",
        "  def change_increment(cls, amount):\n",
        "    cls.increment=amount\n",
        "  @classmethod\n",
        "  def from_str(cls, emp_string):\n",
        "    fname, lname, salary = emp_string.split(\"-\")\n",
        "    return cls(fname, lname, salary)\n",
        "  @staticmethod\n",
        "  def isopen(day):\n",
        "    if day == 'sunday':\n",
        "      return False\n",
        "    else:\n",
        "      return True\n"
      ],
      "metadata": {
        "id": "rLJUbRyzV5be"
      },
      "execution_count": 88,
      "outputs": []
    },
    {
      "cell_type": "code",
      "source": [
        "harry= Employee('harry', 'jackson', 44000)\n",
        "rohan= Employee('rohan', 'maitra', 55000)\n",
        "rohan.lname='das'\n",
        "print(rohan.email)"
      ],
      "metadata": {
        "colab": {
          "base_uri": "https://localhost:8080/"
        },
        "id": "3aITk4oZWHwr",
        "outputId": "0a1527e0-cf3a-4ff0-b581-7b90706b0726"
      },
      "execution_count": 89,
      "outputs": [
        {
          "output_type": "stream",
          "name": "stdout",
          "text": [
            "rohandas@gmail.com\n"
          ]
        }
      ]
    },
    {
      "cell_type": "code",
      "source": [
        "rohan.email= 'dasr.ohan@gmail.com'"
      ],
      "metadata": {
        "colab": {
          "base_uri": "https://localhost:8080/",
          "height": 165
        },
        "id": "-5Mop9JFWJUq",
        "outputId": "032ed515-062f-45da-fc42-aeb13ce84536"
      },
      "execution_count": 90,
      "outputs": [
        {
          "output_type": "error",
          "ename": "AttributeError",
          "evalue": "ignored",
          "traceback": [
            "\u001b[0;31m---------------------------------------------------------------------------\u001b[0m",
            "\u001b[0;31mAttributeError\u001b[0m                            Traceback (most recent call last)",
            "\u001b[0;32m<ipython-input-90-f3894e5ba506>\u001b[0m in \u001b[0;36m<module>\u001b[0;34m()\u001b[0m\n\u001b[0;32m----> 1\u001b[0;31m \u001b[0mrohan\u001b[0m\u001b[0;34m.\u001b[0m\u001b[0memail\u001b[0m\u001b[0;34m=\u001b[0m \u001b[0;34m'dasrohan@gmail.com'\u001b[0m\u001b[0;34m\u001b[0m\u001b[0;34m\u001b[0m\u001b[0m\n\u001b[0m",
            "\u001b[0;31mAttributeError\u001b[0m: can't set attribute"
          ]
        }
      ]
    },
    {
      "cell_type": "code",
      "source": [
        "class Employee:\n",
        "  #class variable\n",
        "  increment=1.5 \n",
        "  no_of_employee= 0\n",
        "  #constructor\n",
        "  def __init__(self, fname, lname, salary):\n",
        "    self.fname=fname\n",
        "    self.lname=lname\n",
        "    self.salary= int(salary)\n",
        "    self.increment= 2\n",
        "    Employee.no_of_employee += 1 \n",
        "  def increase(self):\n",
        "    #self.salary=self.salary * self.increment \n",
        "    self.salary=int(self.salary * Employee.increment)\n",
        "  \n",
        "  @property\n",
        "  def email(self):\n",
        "    if self.fname== None:\n",
        "      return 'Email not set'\n",
        "    else:\n",
        "      return self.fname + '.' + self.lname + '@gmail.com'\n",
        "  \n",
        "  @email.setter\n",
        "  def email(self, given_email):\n",
        "    name_list= given_email.split('@')[0].split('.')\n",
        "    self.fname= name_list[0]\n",
        "    self.lname= name_list[1]\n",
        "\n",
        "  @classmethod\n",
        "  def change_increment(cls, amount):\n",
        "    cls.increment=amount\n",
        "  @classmethod\n",
        "  def from_str(cls, emp_string):\n",
        "    fname, lname, salary = emp_string.split(\"-\")\n",
        "    return cls(fname, lname, salary)\n",
        "  @staticmethod\n",
        "  def isopen(day):\n",
        "    if day == 'sunday':\n",
        "      return False\n",
        "    else:\n",
        "      return True\n"
      ],
      "metadata": {
        "id": "izS1upbhWQL8"
      },
      "execution_count": 97,
      "outputs": []
    },
    {
      "cell_type": "code",
      "source": [
        "harry= Employee('harry', 'jackson', 44000)\n",
        "rohan= Employee('rohan', 'maitra', 55000)\n",
        "rohan.lname='das'\n",
        "print(rohan.email)\n",
        "rohan.email= 'das.rohan@gmail.com'\n",
        "print(rohan.email)"
      ],
      "metadata": {
        "colab": {
          "base_uri": "https://localhost:8080/"
        },
        "id": "9O6b8MnTXMRT",
        "outputId": "acf07ed9-b6aa-42ce-9578-434e5639d33c"
      },
      "execution_count": 98,
      "outputs": [
        {
          "output_type": "stream",
          "name": "stdout",
          "text": [
            "rohan.das@gmail.com\n",
            "das.rohan@gmail.com\n"
          ]
        }
      ]
    },
    {
      "cell_type": "code",
      "source": [
        ""
      ],
      "metadata": {
        "id": "oa3U8ojkXTll"
      },
      "execution_count": null,
      "outputs": []
    }
  ]
}